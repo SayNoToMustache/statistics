{
  "nbformat": 4,
  "nbformat_minor": 0,
  "metadata": {
    "colab": {
      "provenance": [],
      "authorship_tag": "ABX9TyNqEY8huIadprXO53hFJQLt",
      "include_colab_link": true
    },
    "kernelspec": {
      "name": "python3",
      "display_name": "Python 3"
    },
    "language_info": {
      "name": "python"
    }
  },
  "cells": [
    {
      "cell_type": "markdown",
      "metadata": {
        "id": "view-in-github",
        "colab_type": "text"
      },
      "source": [
        "<a href=\"https://colab.research.google.com/github/SayNoToMustache/statistics/blob/main/%D0%9A%D0%A02.ipynb\" target=\"_parent\"><img src=\"https://colab.research.google.com/assets/colab-badge.svg\" alt=\"Open In Colab\"/></a>"
      ]
    },
    {
      "cell_type": "code",
      "execution_count": 173,
      "metadata": {
        "id": "YX6OGOKafxVK"
      },
      "outputs": [],
      "source": [
        "from numpy import mean\n",
        "from scipy import stats\n",
        "import matplotlib.pyplot as plt\n",
        "from pylab import rcParams\n",
        "from numpy import median\n",
        "import numpy as np\n",
        "import math\n",
        "\n",
        "its_list = [3.77, 0.32,7.69,0.42,2.76,2.25,1.70,9.22,8.08,2.53,\n",
        "            2.49,0.51,2.68,1.45,4.06,11.94,2.28,0.23,4.89,2.73,\n",
        "            2.11,6.73,6.43,1.84,3.48,1.93,23.32,16.28,4.55,5.30,3.11,4.05,2.29,5.25,\n",
        "            8.54,10.25,10.44,13.11,1.00,0.97,1.65,2.11,2.44,5.39,1.38,6.74,0.67,9.22,2.92,5.72,\n",
        "            7.55,3.61,3.20,10.09,0.87,0.38,1.32,0.66,1.03,0.50,7.84,2.34,1.36,0.73,0.62,1.87,\n",
        "            4.40,1.48,8.78,1.35,3.56,0.71,2.17,8.48,5.47,3.22,2.69,19.19,4.14,4.63,10.58,2.14,\n",
        "            0.99,11.52,9.37,3.18,0.21,1.57,9.05,6.71,10.73,2.59,2.51,2.02,1.10,3.07,7.89,6.93,\n",
        "            12.34,6.69]\n",
        "\n"
      ]
    },
    {
      "cell_type": "code",
      "source": [
        "max_its_list = max(its_list)\n",
        "min_its_list = min(its_list)"
      ],
      "metadata": {
        "id": "ulS1EX5Dj9Jl"
      },
      "execution_count": 174,
      "outputs": []
    },
    {
      "cell_type": "code",
      "source": [
        "scope = max_its_list - min_its_list\n",
        "scope"
      ],
      "metadata": {
        "colab": {
          "base_uri": "https://localhost:8080/"
        },
        "id": "akECjG6vkJlN",
        "outputId": "b3cc3d4d-2c70-414a-d77c-581f0845c730"
      },
      "execution_count": 175,
      "outputs": [
        {
          "output_type": "execute_result",
          "data": {
            "text/plain": [
              "23.11"
            ]
          },
          "metadata": {},
          "execution_count": 175
        }
      ]
    },
    {
      "cell_type": "markdown",
      "source": [
        "Простые делители 23.11 это простое число\n",
        "\n",
        "Поэтому возьмем 23.12"
      ],
      "metadata": {
        "id": "zJdZ_sZ3mNa_"
      }
    },
    {
      "cell_type": "markdown",
      "source": [
        "Интервалов будет 8"
      ],
      "metadata": {
        "id": "RkpiqMbKpTZj"
      }
    },
    {
      "cell_type": "code",
      "source": [
        "its_list.sort()\n",
        "print(its_list)"
      ],
      "metadata": {
        "colab": {
          "base_uri": "https://localhost:8080/"
        },
        "id": "wawSr0h6oyIq",
        "outputId": "1fa31680-8dfa-485b-f909-dabc4d5b1297"
      },
      "execution_count": 177,
      "outputs": [
        {
          "output_type": "stream",
          "name": "stdout",
          "text": [
            "[0.21, 0.23, 0.32, 0.38, 0.42, 0.5, 0.51, 0.62, 0.66, 0.67, 0.71, 0.73, 0.87, 0.97, 0.99, 1.0, 1.03, 1.1, 1.32, 1.35, 1.36, 1.38, 1.45, 1.48, 1.57, 1.65, 1.7, 1.84, 1.87, 1.93, 2.02, 2.11, 2.11, 2.14, 2.17, 2.25, 2.28, 2.29, 2.34, 2.44, 2.49, 2.51, 2.53, 2.59, 2.68, 2.69, 2.73, 2.76, 2.92, 3.07, 3.11, 3.18, 3.2, 3.22, 3.48, 3.56, 3.61, 3.77, 4.05, 4.06, 4.14, 4.4, 4.55, 4.63, 4.89, 5.25, 5.3, 5.39, 5.47, 5.72, 6.43, 6.69, 6.71, 6.73, 6.74, 6.93, 7.55, 7.69, 7.84, 7.89, 8.08, 8.48, 8.54, 8.78, 9.05, 9.22, 9.22, 9.37, 10.09, 10.25, 10.44, 10.58, 10.73, 11.52, 11.94, 12.34, 13.11, 16.28, 19.19, 23.32]\n"
          ]
        }
      ]
    },
    {
      "cell_type": "markdown",
      "source": [
        "step = 2"
      ],
      "metadata": {
        "id": "ViZKxUMbuiax"
      }
    },
    {
      "cell_type": "code",
      "source": [
        "def func(list_a, left, right):\n",
        "  answ = []\n",
        "  list_b = list_a.copy()\n",
        "  for i in list_b:\n",
        "    if i >= left and i < right:\n",
        "      answ.append(i)\n",
        "  return answ\n"
      ],
      "metadata": {
        "id": "xPNVzDZTqIDr"
      },
      "execution_count": 179,
      "outputs": []
    },
    {
      "cell_type": "code",
      "source": [
        "list_1 = func(its_list, 0, 2.00)\n",
        "list_2 = func(its_list, 2.00, 2.00*2)\n",
        "list_3 = func(its_list, 2*2.00, 2.00*3)\n",
        "list_4 = func(its_list, 2.00*3, 2.00*4)\n",
        "list_5 = func(its_list, 2.00*4, 2.00*5)\n",
        "list_6 = func(its_list, 2.00*5, 2.00*6)\n",
        "list_7 = func(its_list, 2.00*6, 2.00*7)\n",
        "list_8 = func(its_list, 2.00*7, 2.00*8)\n",
        "list_9 = func(its_list, 2.00*8, 2.00*9)\n",
        "list_10 = func(its_list, 2.00*9, 2.00*10)\n",
        "list_11 = func(its_list, 2.00*10, 2.00*11)\n",
        "list_12 = func(its_list, 2.00*11, 2.00*12)\n",
        "list_all = []\n",
        "list_all.append(list_1)\n",
        "list_all.append(list_2)\n",
        "list_all.append(list_3)\n",
        "list_all.append(list_4)\n",
        "list_all.append(list_5)\n",
        "list_all.append(list_6)\n",
        "list_all.append(list_7)\n",
        "list_all.append(list_8)\n",
        "list_all.append(list_9)\n",
        "list_all.append(list_10)\n",
        "list_all.append(list_11)\n",
        "list_all.append(list_12)"
      ],
      "metadata": {
        "id": "db-b60fNmtCI"
      },
      "execution_count": 181,
      "outputs": []
    },
    {
      "cell_type": "code",
      "source": [
        "its_list.sort()\n",
        "seq = []\n",
        "list_of_average = []\n",
        "for i in range(len(list_all)):\n",
        "  print(\"list_{} в промежутке {} - {} и частотой {}, середина интервала {}\".format(i+1, i*2.00, (i+1)*2.00, len(list_all[i]),  i*2.00+((i+1)*2.00 - i*2.00)/2))\n",
        "  seq.append(len(list_all[i]))\n",
        "  list_of_average.append(i*2.00+((i+1)*2.00 - i*2.00)/2)\n",
        "list_of_average"
      ],
      "metadata": {
        "colab": {
          "base_uri": "https://localhost:8080/"
        },
        "id": "cBKZ_Ojhwg-O",
        "outputId": "b88da4e9-2c0a-4cc4-aa50-8535d6195cbc"
      },
      "execution_count": 182,
      "outputs": [
        {
          "output_type": "stream",
          "name": "stdout",
          "text": [
            "list_1 в промежутке 0.0 - 2.0 и частотой 30, середина интервала 1.0\n",
            "list_2 в промежутке 2.0 - 4.0 и частотой 28, середина интервала 3.0\n",
            "list_3 в промежутке 4.0 - 6.0 и частотой 12, середина интервала 5.0\n",
            "list_4 в промежутке 6.0 - 8.0 и частотой 10, середина интервала 7.0\n",
            "list_5 в промежутке 8.0 - 10.0 и частотой 8, середина интервала 9.0\n",
            "list_6 в промежутке 10.0 - 12.0 и частотой 7, середина интервала 11.0\n",
            "list_7 в промежутке 12.0 - 14.0 и частотой 2, середина интервала 13.0\n",
            "list_8 в промежутке 14.0 - 16.0 и частотой 0, середина интервала 15.0\n",
            "list_9 в промежутке 16.0 - 18.0 и частотой 1, середина интервала 17.0\n",
            "list_10 в промежутке 18.0 - 20.0 и частотой 1, середина интервала 19.0\n",
            "list_11 в промежутке 20.0 - 22.0 и частотой 0, середина интервала 21.0\n",
            "list_12 в промежутке 22.0 - 24.0 и частотой 1, середина интервала 23.0\n"
          ]
        },
        {
          "output_type": "execute_result",
          "data": {
            "text/plain": [
              "[1.0, 3.0, 5.0, 7.0, 9.0, 11.0, 13.0, 15.0, 17.0, 19.0, 21.0, 23.0]"
            ]
          },
          "metadata": {},
          "execution_count": 182
        }
      ]
    },
    {
      "cell_type": "code",
      "source": [
        "its_list.sort()\n",
        "sum_0 = 0\n",
        "for i in list_all:\n",
        "  sum_0 += len(i)\n",
        "sum_0"
      ],
      "metadata": {
        "colab": {
          "base_uri": "https://localhost:8080/"
        },
        "id": "gLulKDiU6mVV",
        "outputId": "3facff13-fe63-4975-a69d-f462c286cac4"
      },
      "execution_count": 183,
      "outputs": [
        {
          "output_type": "execute_result",
          "data": {
            "text/plain": [
              "100"
            ]
          },
          "metadata": {},
          "execution_count": 183
        }
      ]
    },
    {
      "cell_type": "markdown",
      "source": [
        "Относительная частота - n_i / n"
      ],
      "metadata": {
        "id": "iebX1Ek113V1"
      }
    },
    {
      "cell_type": "code",
      "source": [
        "its_list.sort()\n",
        "relative_seq = []\n",
        "for i,j in enumerate(seq):\n",
        "  relative_seq.append(j/100)\n",
        "\n",
        "relative_seq"
      ],
      "metadata": {
        "colab": {
          "base_uri": "https://localhost:8080/"
        },
        "id": "3U2lzAii1vqy",
        "outputId": "224239a8-ce4c-43d3-9579-3013f1cfcba0"
      },
      "execution_count": 184,
      "outputs": [
        {
          "output_type": "execute_result",
          "data": {
            "text/plain": [
              "[0.3, 0.28, 0.12, 0.1, 0.08, 0.07, 0.02, 0.0, 0.01, 0.01, 0.0, 0.01]"
            ]
          },
          "metadata": {},
          "execution_count": 184
        }
      ]
    },
    {
      "cell_type": "markdown",
      "source": [
        "Накопительная относительная:"
      ],
      "metadata": {
        "id": "GHGJy8WG277P"
      }
    },
    {
      "cell_type": "code",
      "source": [
        "its_list.sort()\n",
        "sum_1 = 0\n",
        "cdf_sum = []\n",
        "for i in relative_seq:\n",
        "  sum_1 += i\n",
        "  print(sum_1)\n",
        "  cdf_sum.append(sum_1)"
      ],
      "metadata": {
        "colab": {
          "base_uri": "https://localhost:8080/"
        },
        "id": "MzvHmRWb3DC-",
        "outputId": "985c91e8-de79-4ac9-9e23-1524e7571a0f"
      },
      "execution_count": 185,
      "outputs": [
        {
          "output_type": "stream",
          "name": "stdout",
          "text": [
            "0.3\n",
            "0.5800000000000001\n",
            "0.7000000000000001\n",
            "0.8\n",
            "0.88\n",
            "0.95\n",
            "0.97\n",
            "0.97\n",
            "0.98\n",
            "0.99\n",
            "0.99\n",
            "1.0\n"
          ]
        }
      ]
    },
    {
      "cell_type": "code",
      "source": [
        "plt.bar((2, 4, 6, 8, 10, 12, 14, 16, 18, 20, 22, 24), relative_seq, width = 0.9)\n",
        "plt.show()"
      ],
      "metadata": {
        "colab": {
          "base_uri": "https://localhost:8080/",
          "height": 265
        },
        "id": "fwifXSbROCXH",
        "outputId": "5228b6eb-d7ec-4025-9d38-ef38ba223043"
      },
      "execution_count": 186,
      "outputs": [
        {
          "output_type": "display_data",
          "data": {
            "text/plain": [
              "<Figure size 432x288 with 1 Axes>"
            ],
            "image/png": "[encoded data removed]"
          },
          "metadata": {
            "needs_background": "light"
          }
        }
      ]
    },
    {
      "cell_type": "markdown",
      "source": [
        "Вычислить следующие статистики распределения: выборочную среднюю, выборочное среднеквадратичное отклонение, коэффициент вариации, асимметрию, эксцесс, моду и медиану дискретного ряда. Найти доверительные интервалы для точечных оценок распределения. Раскрыть смысловую сторону каждого параметра статистики."
      ],
      "metadata": {
        "id": "TmN3-U0J8YDm"
      }
    },
    {
      "cell_type": "markdown",
      "source": [
        "Выборочное среднее"
      ],
      "metadata": {
        "id": "W0wpOZSk9G8N"
      }
    },
    {
      "cell_type": "code",
      "source": [
        "x_average = sum(its_list)\n",
        "x_average /= 100\n",
        "x_average"
      ],
      "metadata": {
        "colab": {
          "base_uri": "https://localhost:8080/"
        },
        "id": "rJB5n3f47Xqu",
        "outputId": "3fd79813-8b72-4e8f-92d4-b29676867d85"
      },
      "execution_count": 187,
      "outputs": [
        {
          "output_type": "execute_result",
          "data": {
            "text/plain": [
              "4.6665"
            ]
          },
          "metadata": {},
          "execution_count": 187
        }
      ]
    },
    {
      "cell_type": "markdown",
      "source": [
        "Выборочное среднеквадратическое отклонение"
      ],
      "metadata": {
        "id": "x7N-M_T__MGv"
      }
    },
    {
      "cell_type": "code",
      "source": [
        "its_list.sort()\n",
        "its_list_copy = its_list.copy()\n",
        "for i in range(len(its_list_copy)):\n",
        "  its_list_copy[i] -= x_average\n",
        "  its_list_copy[i] = its_list_copy[i] ** 2\n",
        "\n",
        "disp = sum(its_list_copy)\n",
        "disp /= 100\n",
        "disp"
      ],
      "metadata": {
        "colab": {
          "base_uri": "https://localhost:8080/"
        },
        "id": "d6vbXVbM9zk-",
        "outputId": "b7f44b02-01e1-4d1f-960f-66b3e87d3640"
      },
      "execution_count": 188,
      "outputs": [
        {
          "output_type": "execute_result",
          "data": {
            "text/plain": [
              "18.155510750000005"
            ]
          },
          "metadata": {},
          "execution_count": 188
        }
      ]
    },
    {
      "cell_type": "markdown",
      "source": [
        "коэффициент вариации"
      ],
      "metadata": {
        "id": "hWYAQyB__WcG"
      }
    },
    {
      "cell_type": "code",
      "source": [
        "coef_var = np.sqrt(disp) / x_average * 100\n",
        "print(f\"Коэффициент вариации = {coef_var}%\")"
      ],
      "metadata": {
        "colab": {
          "base_uri": "https://localhost:8080/"
        },
        "id": "B5u-ZPMz-fn6",
        "outputId": "1708aa6a-83a6-4048-92eb-7d10faa75bf8"
      },
      "execution_count": 189,
      "outputs": [
        {
          "output_type": "stream",
          "name": "stdout",
          "text": [
            "Коэффициент вариации = 91.3088694014999%\n"
          ]
        }
      ]
    },
    {
      "cell_type": "code",
      "source": [
        "# its_list.sort()\n",
        "# nul_of_list = 0\n",
        "# sr_of_nul_of_list = 1\n",
        "# for i in range(len(list_of_average)):\n",
        "#   list_of_average[i] -= 1\n",
        "#   list_of_average[i] /= 2\n",
        "# list_of_average\n"
      ],
      "metadata": {
        "id": "tHFH71zB_xNo"
      },
      "execution_count": 115,
      "outputs": []
    },
    {
      "cell_type": "code",
      "source": [
        "# freq = list(map( lambda x: round(x*100, 1), relative_seq))\n",
        "\n",
        "# print(relative_seq)\n",
        "# print(list_of_average)\n",
        "# print(freq)"
      ],
      "metadata": {
        "id": "nfU7y2Rwjgn7"
      },
      "execution_count": 116,
      "outputs": []
    },
    {
      "cell_type": "code",
      "source": [
        "# n_i_a_i = list(map(lambda x, y: x * y, list_of_average, freq))\n",
        "# n_i_a_i_2 = list(map(lambda x, y: x**2 * y, list_of_average, freq))\n",
        "# n_i_a_i_3 = list(map(lambda x, y: x**3 * y, list_of_average, freq))\n",
        "# n_i_a_i_4 = list(map(lambda x, y: x**4 * y, list_of_average, freq))"
      ],
      "metadata": {
        "id": "USxAB9pFEnC9"
      },
      "execution_count": 117,
      "outputs": []
    },
    {
      "cell_type": "code",
      "source": [
        "# M_1 = sum(n_i_a_i) / 100\n",
        "# M_2 = sum(n_i_a_i_2) / 100\n",
        "# M_3 = sum(n_i_a_i_3) / 100\n",
        "# M_4 = sum(n_i_a_i_4) / 100\n",
        "# x_av_M = M_1 * 1\n",
        "# x_av_M"
      ],
      "metadata": {
        "id": "X-wsGM0NGRqm"
      },
      "execution_count": 118,
      "outputs": []
    },
    {
      "cell_type": "code",
      "source": [
        "first_moment = stats.moment(its_list, moment=1)\n",
        "average_x_by_central_moment = first_moment + stats.tmean(its_list)\n",
        "print(f\"Среднее через центральный момент = {average_x_by_central_moment}\")\n",
        "second_moment = stats.moment(its_list, moment=2)\n",
        "Disp_v = (second_moment - first_moment**2)\n",
        "print(f\"Выборочная дисперсия через центральный момент = {Disp_v}\")\n",
        "third_moment = stats.moment(its_list, moment=3)\n",
        "a_s_moment = (1/np.sqrt(Disp_v))**3 * (third_moment)\n",
        "print(f\"Ассиметрия через центральный момент = {a_s_moment}\")\n",
        "forth_moment = stats.moment(its_list, moment=4)\n",
        "e_s_moment = (1/np.sqrt(Disp_v))**4 * forth_moment - 3\n",
        "print(f\"Эксцесс через центральный момент = {e_s_moment}\")\n",
        "sigma_v_moment = np.sqrt(Disp_v)\n",
        "print(f\"Cреднее квадратическое отклонение через центральные моменты = {sigma_v_moment}\")\n",
        "print(f\"Коэффициент вариации через центральный моменты = {sigma_v_moment/average_x_by_central_moment * 100}%\")"
      ],
      "metadata": {
        "colab": {
          "base_uri": "https://localhost:8080/"
        },
        "id": "5XfkFfmTklXM",
        "outputId": "49a6a230-318f-4565-9fc5-c0344130c4e4"
      },
      "execution_count": 190,
      "outputs": [
        {
          "output_type": "stream",
          "name": "stdout",
          "text": [
            "Среднее через центральный момент = 4.6665\n",
            "Выборочная дисперсия через центральный момент = 18.155510750000005\n",
            "Ассиметрия через центральный момент = 1.6585830154418122\n",
            "Эксцесс через центральный момент = 3.4412335114234534\n",
            "Cреднее квадратическое отклонение через центральные моменты = 4.260928390620993\n",
            "Коэффициент вариации через центральный моменты = 91.3088694014999%\n"
          ]
        }
      ]
    },
    {
      "cell_type": "code",
      "source": [
        "x = np.linspace(1, 23, 12)\n",
        "plt.plot(x, stats.expon.pdf(x, scale = average_x_by_central_moment))\n",
        "\n",
        "plt.bar((1, 3, 5, 7, 9, 11, 13, 15, 17, 19, 21, 23), relative_seq)"
      ],
      "metadata": {
        "colab": {
          "base_uri": "https://localhost:8080/",
          "height": 282
        },
        "id": "2ulla6oCuxib",
        "outputId": "4f1e607c-8693-45b4-d537-2cdd3664354b"
      },
      "execution_count": 191,
      "outputs": [
        {
          "output_type": "execute_result",
          "data": {
            "text/plain": [
              "<BarContainer object of 12 artists>"
            ]
          },
          "metadata": {},
          "execution_count": 191
        },
        {
          "output_type": "display_data",
          "data": {
            "text/plain": [
              "<Figure size 432x288 with 1 Axes>"
            ],
            "image/png": "[encoded data removed]"
          },
          "metadata": {
            "needs_background": "light"
          }
        }
      ]
    },
    {
      "cell_type": "code",
      "source": [
        "its_copy_of_list = its_list.copy()\n",
        "answer_is = []\n",
        "consta = 100\n",
        "for i in range(0, 2312, consta):\n",
        "  buf = []\n",
        "  buf = func(its_copy_of_list, i/100, (i+consta)/100)\n",
        "  answer_is.append(buf)\n",
        "\n",
        "answer_is\n",
        "seq_freq = []\n",
        "\n",
        "for i in range(len(answer_is)):\n",
        "  # print(\"list_{} в промежутке {} - {} и частотой {}, середина интервала {}\".format(round(i+1, 2), round(i*0.34,2), round((i+1)*0.34, 2), len(answer_is[i]),  round(i*0.34+((i+1)*0.34 - i*0.34)/2, 2)))\n",
        "  seq_freq.append(len(answer_is[i]))\n",
        "\n",
        "relative_seq_freq = []\n",
        "for i,j in enumerate(seq_freq):\n",
        "  relative_seq_freq.append(j/100)\n",
        "\n",
        "len(relative_seq_freq)\n",
        "# answer_is"
      ],
      "metadata": {
        "colab": {
          "base_uri": "https://localhost:8080/"
        },
        "id": "JvLYg4H27ZaC",
        "outputId": "f5d515dd-15b8-485c-b638-a2fbf3e3c1ce"
      },
      "execution_count": 242,
      "outputs": [
        {
          "output_type": "execute_result",
          "data": {
            "text/plain": [
              "24"
            ]
          },
          "metadata": {},
          "execution_count": 242
        }
      ]
    },
    {
      "cell_type": "code",
      "source": [
        "x = np.linspace(1, 23, len(relative_seq_freq))\n",
        "plt.plot(x, stats.expon.pdf(x, scale = average_x_by_central_moment))\n",
        "\n",
        "plt.bar(x, relative_seq_freq)"
      ],
      "metadata": {
        "colab": {
          "base_uri": "https://localhost:8080/",
          "height": 282
        },
        "id": "Md0OqeWf97l2",
        "outputId": "9473f936-b5e0-44a6-a678-8d5f681c5dc9"
      },
      "execution_count": 243,
      "outputs": [
        {
          "output_type": "execute_result",
          "data": {
            "text/plain": [
              "<BarContainer object of 24 artists>"
            ]
          },
          "metadata": {},
          "execution_count": 243
        },
        {
          "output_type": "display_data",
          "data": {
            "text/plain": [
              "<Figure size 432x288 with 1 Axes>"
            ],
            "image/png": "[encoded data removed]"
          },
          "metadata": {
            "needs_background": "light"
          }
        }
      ]
    },
    {
      "cell_type": "markdown",
      "source": [
        "Небольшими изменениями размера выборки привели ее к виду, достаточно сильно похожему на экспоненциальное, первая фотография из-за масштаба выборки не ярко иллюстрировала картину"
      ],
      "metadata": {
        "id": "Dw2n_DADA3TM"
      }
    },
    {
      "cell_type": "code",
      "source": [
        "plt.plot(x, stats.expon.cdf(x, scale = average_x_by_central_moment,))\n",
        "plt.bar([1, 3, 5, 7, 9, 11, 13, 15, 17, 19, 21, 23], cdf_sum)"
      ],
      "metadata": {
        "colab": {
          "base_uri": "https://localhost:8080/",
          "height": 282
        },
        "id": "mJjCZTQGyTx5",
        "outputId": "c9f34259-f3ee-4dff-b0ec-feed51d1c4dc"
      },
      "execution_count": 192,
      "outputs": [
        {
          "output_type": "execute_result",
          "data": {
            "text/plain": [
              "<BarContainer object of 12 artists>"
            ]
          },
          "metadata": {},
          "execution_count": 192
        },
        {
          "output_type": "display_data",
          "data": {
            "text/plain": [
              "<Figure size 432x288 with 1 Axes>"
            ],
            "image/png": "[encoded data removed]"
          },
          "metadata": {
            "needs_background": "light"
          }
        }
      ]
    },
    {
      "cell_type": "markdown",
      "source": [
        "Эксцесс - отклонение вершины эмпирического распределения вверх или вниз от вершины кривой нормального распределения\n",
        "\n",
        "Ассиметрия - показывает отклонение моды эмперического распределения от среднего значения\n",
        "\n",
        "Выборочная дисперсия - оценка дисперсии на основе выборки\n",
        "\n",
        "Среднее выборочное - среднее изходя из выборки\n",
        "\n",
        "Cреднее квадратическое отклонение - на сколько в среднем отклоняется значение выборки от среднего значения\n",
        "\n",
        "Коэффициент вариации - степень изменчивости по отношению к среднему показателю выборки"
      ],
      "metadata": {
        "id": "LE92syW62K6k"
      }
    },
    {
      "cell_type": "markdown",
      "source": [
        "По сравнению графиков, а так же из свойств параметров можно предположить, что данные описываются экспоненциальным законом распределения"
      ],
      "metadata": {
        "id": "jflnEmI1uav8"
      }
    },
    {
      "cell_type": "code",
      "source": [
        "# D_V = (M_2 - M_1 ** 2) * 2**2\n",
        "# D_V\n"
      ],
      "metadata": {
        "id": "vqOp4RsoHltZ"
      },
      "execution_count": 120,
      "outputs": []
    },
    {
      "cell_type": "code",
      "source": [
        "# sigma_V = D_V ** 0.5\n",
        "# sigma_V"
      ],
      "metadata": {
        "id": "hw4-wJL-H6e_"
      },
      "execution_count": 121,
      "outputs": []
    },
    {
      "cell_type": "code",
      "source": [
        "# V = sigma_V / x_av_M\n",
        "# V *= 100\n",
        "# print(f\"V = {round(V, 1)}%\")"
      ],
      "metadata": {
        "id": "2ZCgLYw6ILzL"
      },
      "execution_count": 122,
      "outputs": []
    },
    {
      "cell_type": "code",
      "source": [
        "# a_s = (2**3 / sigma_V**3) * (M_3 - 3 * M_1 * M_2 + 2 * M_1**3)\n",
        "# a_s"
      ],
      "metadata": {
        "id": "zSMKZO5gIVh9"
      },
      "execution_count": 123,
      "outputs": []
    },
    {
      "cell_type": "code",
      "source": [
        "# e_s = (2**4 / sigma_V**4) * (M_4 - 4 * M_1 * M_3 + 6 * M_1**2 * M_2 - 3 * M_1**4) - 3\n",
        "# e_s"
      ],
      "metadata": {
        "id": "9mmTp9_UJ1PB"
      },
      "execution_count": 124,
      "outputs": []
    },
    {
      "cell_type": "markdown",
      "source": [
        "Доверительные Интервалы"
      ],
      "metadata": {
        "id": "ANax7DjIKu-Q"
      }
    },
    {
      "cell_type": "code",
      "source": [
        "t_y = round(1.98421695150868, 4)\n",
        "t_y\n",
        "interval_l = average_x_by_central_moment - t_y * sigma_v_moment / 10\n",
        "interval_r = average_x_by_central_moment + t_y * sigma_v_moment / 10\n",
        "\n",
        "print(f\"Интервал = [{interval_l} ; {interval_r}]\")"
      ],
      "metadata": {
        "colab": {
          "base_uri": "https://localhost:8080/"
        },
        "id": "qIsTCHn6T69v",
        "outputId": "98889f11-685a-4dd6-e382-166050cb6ce4"
      },
      "execution_count": 193,
      "outputs": [
        {
          "output_type": "stream",
          "name": "stdout",
          "text": [
            "Интервал = [3.8210465887329828 ; 5.511953411267018]\n"
          ]
        }
      ]
    },
    {
      "cell_type": "code",
      "source": [
        "mediana = (its_list[49]+its_list[50])\n",
        "mediana /= 2\n",
        "print(f\"медиана = {mediana}\")"
      ],
      "metadata": {
        "colab": {
          "base_uri": "https://localhost:8080/"
        },
        "id": "mhiaMK04LKio",
        "outputId": "51f6a764-bbe9-4db4-f522-0ee623952343"
      },
      "execution_count": 126,
      "outputs": [
        {
          "output_type": "stream",
          "name": "stdout",
          "text": [
            "медиана = 3.09\n"
          ]
        }
      ]
    },
    {
      "cell_type": "code",
      "source": [
        "modas = stats.mode(its_list)\n",
        "print(f\"мода = {modas.mode[0]}\")"
      ],
      "metadata": {
        "colab": {
          "base_uri": "https://localhost:8080/"
        },
        "id": "PA1UgAf0P9_x",
        "outputId": "06711bae-b665-412c-ce14-32eba26e637e"
      },
      "execution_count": 127,
      "outputs": [
        {
          "output_type": "stream",
          "name": "stdout",
          "text": [
            "мода = 2.11\n"
          ]
        }
      ]
    },
    {
      "cell_type": "markdown",
      "source": [
        "Проверим показательный закон"
      ],
      "metadata": {
        "id": "A40wuBDxYWzy"
      }
    },
    {
      "cell_type": "code",
      "source": [
        "np.e"
      ],
      "metadata": {
        "colab": {
          "base_uri": "https://localhost:8080/"
        },
        "id": "v_4XEBLbibvZ",
        "outputId": "3db0c92f-f57c-4767-f4dd-dddcc7389f48"
      },
      "execution_count": 128,
      "outputs": [
        {
          "output_type": "execute_result",
          "data": {
            "text/plain": [
              "2.718281828459045"
            ]
          },
          "metadata": {},
          "execution_count": 128
        }
      ]
    },
    {
      "cell_type": "markdown",
      "source": [
        "Лямбда = 1 / x_average = 1 / 4.78= 0.21"
      ],
      "metadata": {
        "id": "dihMdpiArKXH"
      }
    },
    {
      "cell_type": "code",
      "source": [
        "def function_for_P(left, right):\n",
        "  x_left = np.e**(-0.21*left)\n",
        "  x_right = np.e**(-0.21*right)\n",
        "  return (round(x_left - x_right, 4), round(100*round(x_left - x_right, 4), 4))"
      ],
      "metadata": {
        "id": "NxjCeE0WYcwV"
      },
      "execution_count": 194,
      "outputs": []
    },
    {
      "cell_type": "code",
      "source": [
        "tytytyt = []\n",
        "for i in range(12):\n",
        "  aa_ = function_for_P(2*i, 2*(i+1))\n",
        "  tytytyt.append(aa_)\n",
        "tytytyt"
      ],
      "metadata": {
        "colab": {
          "base_uri": "https://localhost:8080/"
        },
        "id": "eGTJOiI3i0rW",
        "outputId": "7e4247c4-7e25-43e5-e01a-2489fb2a1ae0"
      },
      "execution_count": 196,
      "outputs": [
        {
          "output_type": "execute_result",
          "data": {
            "text/plain": [
              "[(0.343, 34.3),\n",
              " (0.2253, 22.53),\n",
              " (0.1481, 14.81),\n",
              " (0.0973, 9.73),\n",
              " (0.0639, 6.39),\n",
              " (0.042, 4.2),\n",
              " (0.0276, 2.76),\n",
              " (0.0181, 1.81),\n",
              " (0.0119, 1.19),\n",
              " (0.0078, 0.78),\n",
              " (0.0051, 0.51),\n",
              " (0.0034, 0.34)]"
            ]
          },
          "metadata": {},
          "execution_count": 196
        }
      ]
    },
    {
      "cell_type": "code",
      "source": [
        "frequency_list = relative_seq.copy()\n",
        "frequency_list = list(map(lambda x: round(100*x, 1), frequency_list))\n",
        "frequency_list"
      ],
      "metadata": {
        "colab": {
          "base_uri": "https://localhost:8080/"
        },
        "id": "umwEj4e7mRUm",
        "outputId": "09bc1228-fe9f-43bf-90fb-6605a720ab28"
      },
      "execution_count": 197,
      "outputs": [
        {
          "output_type": "execute_result",
          "data": {
            "text/plain": [
              "[30.0, 28.0, 12.0, 10.0, 8.0, 7.0, 2.0, 0.0, 1.0, 1.0, 0.0, 1.0]"
            ]
          },
          "metadata": {},
          "execution_count": 197
        }
      ]
    },
    {
      "cell_type": "markdown",
      "source": [
        " K_наблюдаемое = (n - n_звездочка)^2 / n_звездочка"
      ],
      "metadata": {
        "id": "oE2qc2Mir4cu"
      }
    },
    {
      "cell_type": "code",
      "source": [
        "answ_1 = []\n",
        "for i in range(len(frequency_list)):\n",
        "  answ_1.append(round(frequency_list[i] - tytytyt[i][1], 2))\n",
        "answ_1"
      ],
      "metadata": {
        "colab": {
          "base_uri": "https://localhost:8080/"
        },
        "id": "pLI_mD39n-eM",
        "outputId": "f3cfc268-e897-4a1e-c802-ca3f1dfff798"
      },
      "execution_count": 198,
      "outputs": [
        {
          "output_type": "execute_result",
          "data": {
            "text/plain": [
              "[-4.3, 5.47, -2.81, 0.27, 1.61, 2.8, -0.76, -1.81, -0.19, 0.22, -0.51, 0.66]"
            ]
          },
          "metadata": {},
          "execution_count": 198
        }
      ]
    },
    {
      "cell_type": "code",
      "source": [
        "answ_2 = []\n",
        "for i in range(len(answ_1)):\n",
        "  answ_2 = list(map(lambda x: round(x**2, 2), answ_1))\n",
        "answ_2"
      ],
      "metadata": {
        "colab": {
          "base_uri": "https://localhost:8080/"
        },
        "id": "_l7loj5WoofT",
        "outputId": "517fb20f-d3fb-4b78-d75c-7485b0331038"
      },
      "execution_count": 199,
      "outputs": [
        {
          "output_type": "execute_result",
          "data": {
            "text/plain": [
              "[18.49, 29.92, 7.9, 0.07, 2.59, 7.84, 0.58, 3.28, 0.04, 0.05, 0.26, 0.44]"
            ]
          },
          "metadata": {},
          "execution_count": 199
        }
      ]
    },
    {
      "cell_type": "code",
      "source": [
        "answ_3 = []\n",
        "for i in range(len(answ_2)):\n",
        "  answ_3.append(round(answ_2[i] / tytytyt[i][1], 2))\n",
        "\n",
        "answ_3"
      ],
      "metadata": {
        "colab": {
          "base_uri": "https://localhost:8080/"
        },
        "id": "JNQV66UHp0FT",
        "outputId": "2ef68303-f940-4e28-fe0e-f8a213bcbffe"
      },
      "execution_count": 200,
      "outputs": [
        {
          "output_type": "execute_result",
          "data": {
            "text/plain": [
              "[0.54, 1.33, 0.53, 0.01, 0.41, 1.87, 0.21, 1.81, 0.03, 0.06, 0.51, 1.29]"
            ]
          },
          "metadata": {},
          "execution_count": 200
        }
      ]
    },
    {
      "cell_type": "code",
      "source": [
        "sum_of_answ_3 = sum(answ_3)\n",
        "sum_of_answ_3"
      ],
      "metadata": {
        "colab": {
          "base_uri": "https://localhost:8080/"
        },
        "id": "YBRNlYVOqi1N",
        "outputId": "a06eee7d-9a89-4f92-9404-c24c12d6281f"
      },
      "execution_count": 201,
      "outputs": [
        {
          "output_type": "execute_result",
          "data": {
            "text/plain": [
              "8.600000000000001"
            ]
          },
          "metadata": {},
          "execution_count": 201
        }
      ]
    },
    {
      "cell_type": "markdown",
      "source": [
        "По таблице значение K = 18.30704\n",
        "\n",
        "По наблюдаемым значениям K_наблюдаемое = 8.6\n",
        "\n",
        "Легко заметить, что K_наблюдаемое < K\n",
        "\n",
        "А значит гипотиза не опровергнута"
      ],
      "metadata": {
        "id": "Pf4jggcKqx4b"
      }
    }
  ]
}