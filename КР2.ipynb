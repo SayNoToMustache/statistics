{
  "nbformat": 4,
  "nbformat_minor": 0,
  "metadata": {
    "colab": {
      "provenance": [],
      "authorship_tag": "ABX9TyNxC/KXxGjS895TktccbHp/",
      "include_colab_link": true
    },
    "kernelspec": {
      "name": "python3",
      "display_name": "Python 3"
    },
    "language_info": {
      "name": "python"
    }
  },
  "cells": [
    {
      "cell_type": "markdown",
      "metadata": {
        "id": "view-in-github",
        "colab_type": "text"
      },
      "source": [
        "<a href=\"https://colab.research.google.com/github/SayNoToMustache/statistics/blob/main/%D0%9A%D0%A02.ipynb\" target=\"_parent\"><img src=\"https://colab.research.google.com/assets/colab-badge.svg\" alt=\"Open In Colab\"/></a>"
      ]
    },
    {
      "cell_type": "code",
      "execution_count": 57,
      "metadata": {
        "id": "YX6OGOKafxVK"
      },
      "outputs": [],
      "source": [
        "from numpy import mean\n",
        "from scipy import stats\n",
        "import matplotlib.pyplot as plt\n",
        "from pylab import rcParams\n",
        "from numpy import median\n",
        "import numpy as np\n",
        "import math\n",
        "\n",
        "its_list = [3.77, 0.32,7.69,0.42,2.76,2.25,1.70,9.22,8.08,2.53,\n",
        "            2.49,0.51,2.68,1.45,4.06,11.94,2.28,0.23,4.89,2.73,\n",
        "            2.11,6.73,6.43,1.84,3.48,1.93,23.32,16.28,4.55,5.30,3.11,4.05,2.29,5.25,\n",
        "            8.54,10.25,10.44,13.11,1.00,0.97,1.65,2.11,2.44,5.39,1.38,6.74,0.67,9.22,2.92,5.72,\n",
        "            7.55,3.61,3.20,10.09,0.87,0.38,1.32,0.66,1.03,0.50,7.84,2.34,1.36,0.73,0.62,1.87,\n",
        "            4.40,1.48,8.78,1.35,3.56,0.71,2.17,8.48,5.47,3.22,2.69,19.19,4.14,4.63,10.58,2.14,\n",
        "            0.99,11.52,9.37,3.18,0.21,1.57,9.05,6.71,10.73,2.59,2.51,2.02,1.10,3.07,7.89,6.93,\n",
        "            12.34,6.69]\n",
        "\n"
      ]
    },
    {
      "cell_type": "code",
      "source": [
        "max_its_list = max(its_list)\n",
        "min_its_list = min(its_list)"
      ],
      "metadata": {
        "id": "ulS1EX5Dj9Jl"
      },
      "execution_count": 58,
      "outputs": []
    },
    {
      "cell_type": "code",
      "source": [
        "scope = max_its_list - min_its_list\n",
        "scope"
      ],
      "metadata": {
        "colab": {
          "base_uri": "https://localhost:8080/"
        },
        "id": "akECjG6vkJlN",
        "outputId": "83c7f4d2-9a2b-4dea-fea6-ac1e0292cc96"
      },
      "execution_count": 59,
      "outputs": [
        {
          "output_type": "execute_result",
          "data": {
            "text/plain": [
              "23.11"
            ]
          },
          "metadata": {},
          "execution_count": 59
        }
      ]
    },
    {
      "cell_type": "markdown",
      "source": [
        "Простые делители 23.11 это простое число\n",
        "\n",
        "Поэтому возьмем 23.12"
      ],
      "metadata": {
        "id": "zJdZ_sZ3mNa_"
      }
    },
    {
      "cell_type": "markdown",
      "source": [
        "Интервалов будет 8"
      ],
      "metadata": {
        "id": "RkpiqMbKpTZj"
      }
    },
    {
      "cell_type": "code",
      "source": [
        "its_list.sort()"
      ],
      "metadata": {
        "id": "wawSr0h6oyIq"
      },
      "execution_count": 60,
      "outputs": []
    },
    {
      "cell_type": "markdown",
      "source": [
        "step = 2"
      ],
      "metadata": {
        "id": "ViZKxUMbuiax"
      }
    },
    {
      "cell_type": "code",
      "source": [
        "def func(list_a, left, right):\n",
        "  answ = []\n",
        "  list_b = list_a.copy()\n",
        "  for i in list_b:\n",
        "    if i >= left and i < right:\n",
        "      answ.append(i)\n",
        "  return answ\n"
      ],
      "metadata": {
        "id": "xPNVzDZTqIDr"
      },
      "execution_count": 61,
      "outputs": []
    },
    {
      "cell_type": "code",
      "source": [
        "list_1 = func(its_list, 0, 2.00)\n",
        "list_2 = func(its_list, 2.00, 2.00*2)\n",
        "list_3 = func(its_list, 2*2.00, 2.00*3)\n",
        "list_4 = func(its_list, 2.00*3, 2.00*4)\n",
        "list_5 = func(its_list, 2.00*4, 2.00*5)\n",
        "list_6 = func(its_list, 2.00*5, 2.00*6)\n",
        "list_7 = func(its_list, 2.00*6, 2.00*7)\n",
        "list_8 = func(its_list, 2.00*7, 2.00*8)\n",
        "list_9 = func(its_list, 2.00*8, 2.00*9)\n",
        "list_10 = func(its_list, 2.00*9, 2.00*10)\n",
        "list_11 = func(its_list, 2.00*10, 2.00*11)\n",
        "list_12 = func(its_list, 2.00*11, 2.00*12)\n",
        "list_all = []\n",
        "list_all.append(list_1)\n",
        "list_all.append(list_2)\n",
        "list_all.append(list_3)\n",
        "list_all.append(list_4)\n",
        "list_all.append(list_5)\n",
        "list_all.append(list_6)\n",
        "list_all.append(list_7)\n",
        "list_all.append(list_8)\n",
        "list_all.append(list_9)\n",
        "list_all.append(list_10)\n",
        "list_all.append(list_11)\n",
        "list_all.append(list_12)"
      ],
      "metadata": {
        "id": "db-b60fNmtCI"
      },
      "execution_count": 62,
      "outputs": []
    },
    {
      "cell_type": "code",
      "source": [
        "its_list.sort()\n",
        "seq = []\n",
        "list_of_average = []\n",
        "for i in range(len(list_all)):\n",
        "  print(\"list_{} в промежутке {} - {} и частотой {}, середина интервала {}\".format(i+1, i*2.00, (i+1)*2.00, len(list_all[i]),  i*2.00+((i+1)*2.00 - i*2.00)/2))\n",
        "  seq.append(len(list_all[i]))\n",
        "  list_of_average.append(i*2.00+((i+1)*2.00 - i*2.00)/2)\n",
        "list_of_average"
      ],
      "metadata": {
        "colab": {
          "base_uri": "https://localhost:8080/"
        },
        "id": "cBKZ_Ojhwg-O",
        "outputId": "08f6be04-5f15-4da2-eaaf-e6461ecbcba4"
      },
      "execution_count": 63,
      "outputs": [
        {
          "output_type": "stream",
          "name": "stdout",
          "text": [
            "list_1 в промежутке 0.0 - 2.0 и частотой 30, середина интервала 1.0\n",
            "list_2 в промежутке 2.0 - 4.0 и частотой 28, середина интервала 3.0\n",
            "list_3 в промежутке 4.0 - 6.0 и частотой 12, середина интервала 5.0\n",
            "list_4 в промежутке 6.0 - 8.0 и частотой 10, середина интервала 7.0\n",
            "list_5 в промежутке 8.0 - 10.0 и частотой 8, середина интервала 9.0\n",
            "list_6 в промежутке 10.0 - 12.0 и частотой 7, середина интервала 11.0\n",
            "list_7 в промежутке 12.0 - 14.0 и частотой 2, середина интервала 13.0\n",
            "list_8 в промежутке 14.0 - 16.0 и частотой 0, середина интервала 15.0\n",
            "list_9 в промежутке 16.0 - 18.0 и частотой 1, середина интервала 17.0\n",
            "list_10 в промежутке 18.0 - 20.0 и частотой 1, середина интервала 19.0\n",
            "list_11 в промежутке 20.0 - 22.0 и частотой 0, середина интервала 21.0\n",
            "list_12 в промежутке 22.0 - 24.0 и частотой 1, середина интервала 23.0\n"
          ]
        },
        {
          "output_type": "execute_result",
          "data": {
            "text/plain": [
              "[1.0, 3.0, 5.0, 7.0, 9.0, 11.0, 13.0, 15.0, 17.0, 19.0, 21.0, 23.0]"
            ]
          },
          "metadata": {},
          "execution_count": 63
        }
      ]
    },
    {
      "cell_type": "code",
      "source": [
        "from prettytable import PrettyTable\n",
        "\n",
        "mytable = PrettyTable()\n",
        "mytable.field_names = [\"Интервал\", \"Частота\", \"Середина интервала\", \"Относительная частота\"]\n",
        "for i in range(len(seq)):\n",
        "  mytable.add_row([f\"[{i*2} : {(i+1)*2}]\", seq[i], list_of_average[i], seq[i]/100])\n",
        "\n",
        "print(mytable)"
      ],
      "metadata": {
        "colab": {
          "base_uri": "https://localhost:8080/"
        },
        "id": "w2Y-vyJpCIIt",
        "outputId": "9836c684-f5f9-4799-aa5d-1010d95f0ec6"
      },
      "execution_count": 108,
      "outputs": [
        {
          "output_type": "stream",
          "name": "stdout",
          "text": [
            "+-----------+---------+--------------------+-----------------------+\n",
            "|  Интервал | Частота | Середина интервала | Относительная частота |\n",
            "+-----------+---------+--------------------+-----------------------+\n",
            "|  [0 : 2]  |    30   |        1.0         |          0.3          |\n",
            "|  [2 : 4]  |    28   |        3.0         |          0.28         |\n",
            "|  [4 : 6]  |    12   |        5.0         |          0.12         |\n",
            "|  [6 : 8]  |    10   |        7.0         |          0.1          |\n",
            "|  [8 : 10] |    8    |        9.0         |          0.08         |\n",
            "| [10 : 12] |    7    |        11.0        |          0.07         |\n",
            "| [12 : 14] |    2    |        13.0        |          0.02         |\n",
            "| [14 : 16] |    0    |        15.0        |          0.0          |\n",
            "| [16 : 18] |    1    |        17.0        |          0.01         |\n",
            "| [18 : 20] |    1    |        19.0        |          0.01         |\n",
            "| [20 : 22] |    0    |        21.0        |          0.0          |\n",
            "| [22 : 24] |    1    |        23.0        |          0.01         |\n",
            "+-----------+---------+--------------------+-----------------------+\n"
          ]
        }
      ]
    },
    {
      "cell_type": "code",
      "source": [
        "its_list.sort()\n",
        "sum_0 = 0\n",
        "for i in list_all:\n",
        "  sum_0 += len(i)\n",
        "sum_0"
      ],
      "metadata": {
        "colab": {
          "base_uri": "https://localhost:8080/"
        },
        "id": "gLulKDiU6mVV",
        "outputId": "46687a4d-11e0-4feb-9da3-c421728440df"
      },
      "execution_count": 64,
      "outputs": [
        {
          "output_type": "execute_result",
          "data": {
            "text/plain": [
              "100"
            ]
          },
          "metadata": {},
          "execution_count": 64
        }
      ]
    },
    {
      "cell_type": "markdown",
      "source": [
        "Относительная частота - n_i / n"
      ],
      "metadata": {
        "id": "iebX1Ek113V1"
      }
    },
    {
      "cell_type": "code",
      "source": [
        "its_list.sort()\n",
        "relative_seq = []\n",
        "for i,j in enumerate(seq):\n",
        "  relative_seq.append(j/100)\n",
        "\n",
        "relative_seq"
      ],
      "metadata": {
        "colab": {
          "base_uri": "https://localhost:8080/"
        },
        "id": "3U2lzAii1vqy",
        "outputId": "ed3bbc64-39b0-4699-cbf3-7e2e0b99e375"
      },
      "execution_count": 65,
      "outputs": [
        {
          "output_type": "execute_result",
          "data": {
            "text/plain": [
              "[0.3, 0.28, 0.12, 0.1, 0.08, 0.07, 0.02, 0.0, 0.01, 0.01, 0.0, 0.01]"
            ]
          },
          "metadata": {},
          "execution_count": 65
        }
      ]
    },
    {
      "cell_type": "markdown",
      "source": [
        "Накопительная относительная:"
      ],
      "metadata": {
        "id": "GHGJy8WG277P"
      }
    },
    {
      "cell_type": "code",
      "source": [
        "its_list.sort()\n",
        "sum_1 = 0\n",
        "cdf_sum = []\n",
        "for i in relative_seq:\n",
        "  sum_1 += i\n",
        "  print(sum_1)\n",
        "  cdf_sum.append(sum_1)"
      ],
      "metadata": {
        "colab": {
          "base_uri": "https://localhost:8080/"
        },
        "id": "MzvHmRWb3DC-",
        "outputId": "6a3ccb8c-a7fd-4d3b-862c-9122ee76f4c8"
      },
      "execution_count": 66,
      "outputs": [
        {
          "output_type": "stream",
          "name": "stdout",
          "text": [
            "0.3\n",
            "0.5800000000000001\n",
            "0.7000000000000001\n",
            "0.8\n",
            "0.88\n",
            "0.95\n",
            "0.97\n",
            "0.97\n",
            "0.98\n",
            "0.99\n",
            "0.99\n",
            "1.0\n"
          ]
        }
      ]
    },
    {
      "cell_type": "code",
      "source": [
        "plt.bar((2, 4, 6, 8, 10, 12, 14, 16, 18, 20, 22, 24), relative_seq, width = 0.9)\n",
        "plt.show()"
      ],
      "metadata": {
        "colab": {
          "base_uri": "https://localhost:8080/",
          "height": 265
        },
        "id": "fwifXSbROCXH",
        "outputId": "b93107a0-b06f-4a49-c5fd-1c93076e4ce6"
      },
      "execution_count": 67,
      "outputs": [
        {
          "output_type": "display_data",
          "data": {
            "text/plain": [
              "<Figure size 432x288 with 1 Axes>"
            ],
            "image/png": "[encoded data removed]"
          },
          "metadata": {
            "needs_background": "light"
          }
        }
      ]
    },
    {
      "cell_type": "markdown",
      "source": [
        "Вычислить следующие статистики распределения: выборочную среднюю, выборочное среднеквадратичное отклонение, коэффициент вариации, асимметрию, эксцесс, моду и медиану дискретного ряда. Найти доверительные интервалы для точечных оценок распределения. Раскрыть смысловую сторону каждого параметра статистики."
      ],
      "metadata": {
        "id": "TmN3-U0J8YDm"
      }
    },
    {
      "cell_type": "markdown",
      "source": [
        "Выборочное среднее"
      ],
      "metadata": {
        "id": "W0wpOZSk9G8N"
      }
    },
    {
      "cell_type": "code",
      "source": [
        "x_average = sum(its_list)\n",
        "x_average /= 100\n",
        "x_average"
      ],
      "metadata": {
        "colab": {
          "base_uri": "https://localhost:8080/"
        },
        "id": "rJB5n3f47Xqu",
        "outputId": "4e65f9d5-9e1a-4c1d-f181-1cfe69c19a88"
      },
      "execution_count": 68,
      "outputs": [
        {
          "output_type": "execute_result",
          "data": {
            "text/plain": [
              "4.6665"
            ]
          },
          "metadata": {},
          "execution_count": 68
        }
      ]
    },
    {
      "cell_type": "markdown",
      "source": [
        "Выборочное среднеквадратическое отклонение"
      ],
      "metadata": {
        "id": "x7N-M_T__MGv"
      }
    },
    {
      "cell_type": "code",
      "source": [
        "its_list.sort()\n",
        "its_list_copy = its_list.copy()\n",
        "for i in range(len(its_list_copy)):\n",
        "  its_list_copy[i] -= x_average\n",
        "  its_list_copy[i] = its_list_copy[i] ** 2\n",
        "\n",
        "disp = sum(its_list_copy)\n",
        "disp /= 100\n",
        "disp"
      ],
      "metadata": {
        "colab": {
          "base_uri": "https://localhost:8080/"
        },
        "id": "d6vbXVbM9zk-",
        "outputId": "63d50106-c978-4e2c-8287-b27a21e97d06"
      },
      "execution_count": 69,
      "outputs": [
        {
          "output_type": "execute_result",
          "data": {
            "text/plain": [
              "18.155510750000005"
            ]
          },
          "metadata": {},
          "execution_count": 69
        }
      ]
    },
    {
      "cell_type": "code",
      "source": [
        "np.sqrt(disp)"
      ],
      "metadata": {
        "colab": {
          "base_uri": "https://localhost:8080/"
        },
        "id": "lrInL3F8Vbn7",
        "outputId": "622a4725-6b6b-4c16-c380-cb67a581053d"
      },
      "execution_count": 120,
      "outputs": [
        {
          "output_type": "execute_result",
          "data": {
            "text/plain": [
              "4.260928390620993"
            ]
          },
          "metadata": {},
          "execution_count": 120
        }
      ]
    },
    {
      "cell_type": "markdown",
      "source": [
        "коэффициент вариации"
      ],
      "metadata": {
        "id": "hWYAQyB__WcG"
      }
    },
    {
      "cell_type": "code",
      "source": [
        "coef_var = np.sqrt(disp) / x_average * 100\n",
        "print(f\"Коэффициент вариации = {coef_var}%\")"
      ],
      "metadata": {
        "colab": {
          "base_uri": "https://localhost:8080/"
        },
        "id": "B5u-ZPMz-fn6",
        "outputId": "3eef7db2-6f65-41b9-df15-e6e3e44a1235"
      },
      "execution_count": 70,
      "outputs": [
        {
          "output_type": "stream",
          "name": "stdout",
          "text": [
            "Коэффициент вариации = 91.3088694014999%\n"
          ]
        }
      ]
    },
    {
      "cell_type": "code",
      "source": [
        "# its_list.sort()\n",
        "# nul_of_list = 0\n",
        "# sr_of_nul_of_list = 1\n",
        "# for i in range(len(list_of_average)):\n",
        "#   list_of_average[i] -= 1\n",
        "#   list_of_average[i] /= 2\n",
        "# list_of_average\n"
      ],
      "metadata": {
        "id": "tHFH71zB_xNo"
      },
      "execution_count": 71,
      "outputs": []
    },
    {
      "cell_type": "code",
      "source": [
        "# freq = list(map( lambda x: round(x*100, 1), relative_seq))\n",
        "\n",
        "# print(relative_seq)\n",
        "# print(list_of_average)\n",
        "# print(freq)"
      ],
      "metadata": {
        "id": "nfU7y2Rwjgn7"
      },
      "execution_count": 72,
      "outputs": []
    },
    {
      "cell_type": "code",
      "source": [
        "# n_i_a_i = list(map(lambda x, y: x * y, list_of_average, freq))\n",
        "# n_i_a_i_2 = list(map(lambda x, y: x**2 * y, list_of_average, freq))\n",
        "# n_i_a_i_3 = list(map(lambda x, y: x**3 * y, list_of_average, freq))\n",
        "# n_i_a_i_4 = list(map(lambda x, y: x**4 * y, list_of_average, freq))"
      ],
      "metadata": {
        "id": "USxAB9pFEnC9"
      },
      "execution_count": 73,
      "outputs": []
    },
    {
      "cell_type": "code",
      "source": [
        "# M_1 = sum(n_i_a_i) / 100\n",
        "# M_2 = sum(n_i_a_i_2) / 100\n",
        "# M_3 = sum(n_i_a_i_3) / 100\n",
        "# M_4 = sum(n_i_a_i_4) / 100\n",
        "# x_av_M = M_1 * 1\n",
        "# x_av_M"
      ],
      "metadata": {
        "id": "X-wsGM0NGRqm"
      },
      "execution_count": 74,
      "outputs": []
    },
    {
      "cell_type": "code",
      "source": [
        "first_moment = stats.moment(its_list, moment=1)\n",
        "average_x_by_central_moment = first_moment + stats.tmean(its_list)\n",
        "print(f\"Среднее через центральный момент = {average_x_by_central_moment}\")\n",
        "second_moment = stats.moment(its_list, moment=2)\n",
        "Disp_v = (second_moment - first_moment**2)\n",
        "print(f\"Выборочная дисперсия через центральный момент = {Disp_v}\")\n",
        "third_moment = stats.moment(its_list, moment=3)\n",
        "a_s_moment = (1/np.sqrt(Disp_v))**3 * (third_moment)\n",
        "print(f\"Ассиметрия через центральный момент = {a_s_moment}\")\n",
        "forth_moment = stats.moment(its_list, moment=4)\n",
        "e_s_moment = (1/np.sqrt(Disp_v))**4 * forth_moment - 3\n",
        "print(f\"Эксцесс через центральный момент = {e_s_moment}\")\n",
        "sigma_v_moment = np.sqrt(Disp_v)\n",
        "print(f\"Cреднее квадратическое отклонение через центральные моменты = {sigma_v_moment}\")\n",
        "print(f\"Коэффициент вариации через центральный моменты = {sigma_v_moment/average_x_by_central_moment * 100}%\")"
      ],
      "metadata": {
        "colab": {
          "base_uri": "https://localhost:8080/"
        },
        "id": "5XfkFfmTklXM",
        "outputId": "b22e97ce-a7e1-41b7-b0c3-5bf26a245230"
      },
      "execution_count": 75,
      "outputs": [
        {
          "output_type": "stream",
          "name": "stdout",
          "text": [
            "Среднее через центральный момент = 4.6665\n",
            "Выборочная дисперсия через центральный момент = 18.155510750000005\n",
            "Ассиметрия через центральный момент = 1.6585830154418122\n",
            "Эксцесс через центральный момент = 3.4412335114234534\n",
            "Cреднее квадратическое отклонение через центральные моменты = 4.260928390620993\n",
            "Коэффициент вариации через центральный моменты = 91.3088694014999%\n"
          ]
        }
      ]
    },
    {
      "cell_type": "code",
      "source": [
        "x = np.linspace(1, 23, 12)\n",
        "plt.plot(x, stats.expon.pdf(x, scale = average_x_by_central_moment))\n",
        "\n",
        "plt.bar((1, 3, 5, 7, 9, 11, 13, 15, 17, 19, 21, 23), relative_seq)"
      ],
      "metadata": {
        "colab": {
          "base_uri": "https://localhost:8080/",
          "height": 282
        },
        "id": "2ulla6oCuxib",
        "outputId": "aa704755-cb2d-4d4f-d5a5-366209e9c640"
      },
      "execution_count": 76,
      "outputs": [
        {
          "output_type": "execute_result",
          "data": {
            "text/plain": [
              "<BarContainer object of 12 artists>"
            ]
          },
          "metadata": {},
          "execution_count": 76
        },
        {
          "output_type": "display_data",
          "data": {
            "text/plain": [
              "<Figure size 432x288 with 1 Axes>"
            ],
            "image/png": "[encoded data removed]"
          },
          "metadata": {
            "needs_background": "light"
          }
        }
      ]
    },
    {
      "cell_type": "code",
      "source": [
        "its_copy_of_list = its_list.copy()\n",
        "answer_is = []\n",
        "consta = 100\n",
        "for i in range(0, 2312, consta):\n",
        "  buf = []\n",
        "  buf = func(its_copy_of_list, i/100, (i+consta)/100)\n",
        "  answer_is.append(buf)\n",
        "\n",
        "answer_is\n",
        "seq_freq = []\n",
        "\n",
        "for i in range(len(answer_is)):\n",
        "  seq_freq.append(len(answer_is[i]))\n",
        "\n",
        "relative_seq_freq = []\n",
        "for i,j in enumerate(seq_freq):\n",
        "  relative_seq_freq.append(j/100)\n",
        "\n",
        "len(relative_seq_freq)"
      ],
      "metadata": {
        "colab": {
          "base_uri": "https://localhost:8080/"
        },
        "id": "JvLYg4H27ZaC",
        "outputId": "87264bab-241b-4b50-c19f-827fecfb0549"
      },
      "execution_count": 77,
      "outputs": [
        {
          "output_type": "execute_result",
          "data": {
            "text/plain": [
              "24"
            ]
          },
          "metadata": {},
          "execution_count": 77
        }
      ]
    },
    {
      "cell_type": "code",
      "source": [
        "x = np.linspace(1, 23, len(relative_seq_freq))\n",
        "plt.plot(x, stats.expon.pdf(x, scale = average_x_by_central_moment))\n",
        "\n",
        "plt.bar(x, relative_seq_freq)"
      ],
      "metadata": {
        "colab": {
          "base_uri": "https://localhost:8080/",
          "height": 282
        },
        "id": "Md0OqeWf97l2",
        "outputId": "2615d6d9-b6d9-4115-87e5-6f3e3f224bc5"
      },
      "execution_count": 78,
      "outputs": [
        {
          "output_type": "execute_result",
          "data": {
            "text/plain": [
              "<BarContainer object of 24 artists>"
            ]
          },
          "metadata": {},
          "execution_count": 78
        },
        {
          "output_type": "display_data",
          "data": {
            "text/plain": [
              "<Figure size 432x288 with 1 Axes>"
            ],
            "image/png": "[encoded data removed]"
          },
          "metadata": {
            "needs_background": "light"
          }
        }
      ]
    },
    {
      "cell_type": "markdown",
      "source": [
        "Небольшими изменениями размера выборки привели ее к виду, достаточно сильно похожему на экспоненциальное, первая фотография из-за масштаба выборки не ярко иллюстрировала картину"
      ],
      "metadata": {
        "id": "Dw2n_DADA3TM"
      }
    },
    {
      "cell_type": "code",
      "source": [
        "plt.plot(x, stats.expon.cdf(x, scale = average_x_by_central_moment,))\n",
        "plt.bar([1, 3, 5, 7, 9, 11, 13, 15, 17, 19, 21, 23], cdf_sum)"
      ],
      "metadata": {
        "colab": {
          "base_uri": "https://localhost:8080/",
          "height": 282
        },
        "id": "mJjCZTQGyTx5",
        "outputId": "66b5e8f1-a6b7-4e29-98ab-1b3435853ce8"
      },
      "execution_count": 79,
      "outputs": [
        {
          "output_type": "execute_result",
          "data": {
            "text/plain": [
              "<BarContainer object of 12 artists>"
            ]
          },
          "metadata": {},
          "execution_count": 79
        },
        {
          "output_type": "display_data",
          "data": {
            "text/plain": [
              "<Figure size 432x288 with 1 Axes>"
            ],
            "image/png": "[encoded data removed]"
          },
          "metadata": {
            "needs_background": "light"
          }
        }
      ]
    },
    {
      "cell_type": "markdown",
      "source": [
        "Эксцесс - отклонение вершины эмпирического распределения вверх или вниз от вершины кривой нормального распределения\n",
        "\n",
        "Ассиметрия - показывает отклонение моды эмперического распределения от среднего значения\n",
        "\n",
        "Выборочная дисперсия - оценка дисперсии на основе выборки\n",
        "\n",
        "Среднее выборочное - среднее изходя из выборки\n",
        "\n",
        "Cреднее квадратическое отклонение - на сколько в среднем отклоняется значение выборки от среднего значения\n",
        "\n",
        "Коэффициент вариации - степень изменчивости по отношению к среднему показателю выборки"
      ],
      "metadata": {
        "id": "LE92syW62K6k"
      }
    },
    {
      "cell_type": "markdown",
      "source": [
        "По сравнению графиков, а так же из свойств параметров можно предположить, что данные описываются экспоненциальным законом распределения"
      ],
      "metadata": {
        "id": "jflnEmI1uav8"
      }
    },
    {
      "cell_type": "code",
      "source": [
        "# D_V = (M_2 - M_1 ** 2) * 2**2\n",
        "# D_V\n"
      ],
      "metadata": {
        "id": "vqOp4RsoHltZ"
      },
      "execution_count": 80,
      "outputs": []
    },
    {
      "cell_type": "code",
      "source": [
        "# sigma_V = D_V ** 0.5\n",
        "# sigma_V"
      ],
      "metadata": {
        "id": "hw4-wJL-H6e_"
      },
      "execution_count": 81,
      "outputs": []
    },
    {
      "cell_type": "code",
      "source": [
        "# V = sigma_V / x_av_M\n",
        "# V *= 100\n",
        "# print(f\"V = {round(V, 1)}%\")"
      ],
      "metadata": {
        "id": "2ZCgLYw6ILzL"
      },
      "execution_count": 82,
      "outputs": []
    },
    {
      "cell_type": "code",
      "source": [
        "# a_s = (2**3 / sigma_V**3) * (M_3 - 3 * M_1 * M_2 + 2 * M_1**3)\n",
        "# a_s"
      ],
      "metadata": {
        "id": "zSMKZO5gIVh9"
      },
      "execution_count": 83,
      "outputs": []
    },
    {
      "cell_type": "code",
      "source": [
        "# e_s = (2**4 / sigma_V**4) * (M_4 - 4 * M_1 * M_3 + 6 * M_1**2 * M_2 - 3 * M_1**4) - 3\n",
        "# e_s"
      ],
      "metadata": {
        "id": "9mmTp9_UJ1PB"
      },
      "execution_count": 84,
      "outputs": []
    },
    {
      "cell_type": "markdown",
      "source": [
        "Доверительные Интервалы"
      ],
      "metadata": {
        "id": "ANax7DjIKu-Q"
      }
    },
    {
      "cell_type": "code",
      "source": [
        "t_y = round(1.98421695150868, 4)\n",
        "t_y\n",
        "interval_l = average_x_by_central_moment - t_y * sigma_v_moment / 10\n",
        "interval_r = average_x_by_central_moment + t_y * sigma_v_moment / 10\n",
        "\n",
        "print(f\"Интервал = [{interval_l} ; {interval_r}]\")"
      ],
      "metadata": {
        "colab": {
          "base_uri": "https://localhost:8080/"
        },
        "id": "qIsTCHn6T69v",
        "outputId": "eb10c507-a42a-47d3-e877-73e14a1ee458"
      },
      "execution_count": 85,
      "outputs": [
        {
          "output_type": "stream",
          "name": "stdout",
          "text": [
            "Интервал = [3.8210465887329828 ; 5.511953411267018]\n"
          ]
        }
      ]
    },
    {
      "cell_type": "code",
      "source": [
        "mediana = (its_list[49]+its_list[50])\n",
        "mediana /= 2\n",
        "print(f\"медиана = {mediana}\")"
      ],
      "metadata": {
        "colab": {
          "base_uri": "https://localhost:8080/"
        },
        "id": "mhiaMK04LKio",
        "outputId": "76435929-7421-4973-c48c-83eb1311ad32"
      },
      "execution_count": 86,
      "outputs": [
        {
          "output_type": "stream",
          "name": "stdout",
          "text": [
            "медиана = 3.09\n"
          ]
        }
      ]
    },
    {
      "cell_type": "code",
      "source": [
        "modas = stats.mode(its_list)\n",
        "print(f\"мода = {modas.mode[0]}\")"
      ],
      "metadata": {
        "colab": {
          "base_uri": "https://localhost:8080/"
        },
        "id": "PA1UgAf0P9_x",
        "outputId": "7e72676e-84fb-48ae-a0e0-61295f4cb3a7"
      },
      "execution_count": 87,
      "outputs": [
        {
          "output_type": "stream",
          "name": "stdout",
          "text": [
            "мода = 2.11\n"
          ]
        }
      ]
    },
    {
      "cell_type": "markdown",
      "source": [
        "Проверим показательный закон"
      ],
      "metadata": {
        "id": "A40wuBDxYWzy"
      }
    },
    {
      "cell_type": "code",
      "source": [
        "np.e"
      ],
      "metadata": {
        "colab": {
          "base_uri": "https://localhost:8080/"
        },
        "id": "v_4XEBLbibvZ",
        "outputId": "48629424-37b6-43e2-a182-bebf5b849b7f"
      },
      "execution_count": 88,
      "outputs": [
        {
          "output_type": "execute_result",
          "data": {
            "text/plain": [
              "2.718281828459045"
            ]
          },
          "metadata": {},
          "execution_count": 88
        }
      ]
    },
    {
      "cell_type": "markdown",
      "source": [
        "Лямбда = 1 / x_average = 1 / 4.78= 0.21"
      ],
      "metadata": {
        "id": "dihMdpiArKXH"
      }
    },
    {
      "cell_type": "code",
      "source": [
        "def function_for_P(left, right):\n",
        "  x_left = np.e**(-0.21*left)\n",
        "  x_right = np.e**(-0.21*right)\n",
        "  return (round(x_left - x_right, 4), round(100*round(x_left - x_right, 4), 4))"
      ],
      "metadata": {
        "id": "NxjCeE0WYcwV"
      },
      "execution_count": 89,
      "outputs": []
    },
    {
      "cell_type": "code",
      "source": [
        "tytytyt = []\n",
        "for i in range(12):\n",
        "  aa_ = function_for_P(2*i, 2*(i+1))\n",
        "  tytytyt.append(aa_)\n",
        "tytytyt"
      ],
      "metadata": {
        "colab": {
          "base_uri": "https://localhost:8080/"
        },
        "id": "eGTJOiI3i0rW",
        "outputId": "38e69c56-1654-4224-b199-02fe71b5e6fc"
      },
      "execution_count": 90,
      "outputs": [
        {
          "output_type": "execute_result",
          "data": {
            "text/plain": [
              "[(0.343, 34.3),\n",
              " (0.2253, 22.53),\n",
              " (0.1481, 14.81),\n",
              " (0.0973, 9.73),\n",
              " (0.0639, 6.39),\n",
              " (0.042, 4.2),\n",
              " (0.0276, 2.76),\n",
              " (0.0181, 1.81),\n",
              " (0.0119, 1.19),\n",
              " (0.0078, 0.78),\n",
              " (0.0051, 0.51),\n",
              " (0.0034, 0.34)]"
            ]
          },
          "metadata": {},
          "execution_count": 90
        }
      ]
    },
    {
      "cell_type": "code",
      "source": [
        "frequency_list = relative_seq.copy()\n",
        "frequency_list = list(map(lambda x: round(100*x, 1), frequency_list))\n",
        "frequency_list"
      ],
      "metadata": {
        "colab": {
          "base_uri": "https://localhost:8080/"
        },
        "id": "umwEj4e7mRUm",
        "outputId": "ec67347b-0296-4aed-c7f8-b660aa6acdd0"
      },
      "execution_count": 91,
      "outputs": [
        {
          "output_type": "execute_result",
          "data": {
            "text/plain": [
              "[30.0, 28.0, 12.0, 10.0, 8.0, 7.0, 2.0, 0.0, 1.0, 1.0, 0.0, 1.0]"
            ]
          },
          "metadata": {},
          "execution_count": 91
        }
      ]
    },
    {
      "cell_type": "markdown",
      "source": [
        " K_наблюдаемое = (n - n_звездочка)^2 / n_звездочка"
      ],
      "metadata": {
        "id": "oE2qc2Mir4cu"
      }
    },
    {
      "cell_type": "code",
      "source": [
        "answ_1 = []\n",
        "for i in range(len(frequency_list)):\n",
        "  answ_1.append(round(frequency_list[i] - tytytyt[i][1], 2))\n",
        "answ_1"
      ],
      "metadata": {
        "colab": {
          "base_uri": "https://localhost:8080/"
        },
        "id": "pLI_mD39n-eM",
        "outputId": "4d9a8f46-9ef6-48b3-d2ab-5a1feb7214c1"
      },
      "execution_count": 92,
      "outputs": [
        {
          "output_type": "execute_result",
          "data": {
            "text/plain": [
              "[-4.3, 5.47, -2.81, 0.27, 1.61, 2.8, -0.76, -1.81, -0.19, 0.22, -0.51, 0.66]"
            ]
          },
          "metadata": {},
          "execution_count": 92
        }
      ]
    },
    {
      "cell_type": "code",
      "source": [
        "answ_2 = []\n",
        "for i in range(len(answ_1)):\n",
        "  answ_2 = list(map(lambda x: round(x**2, 2), answ_1))\n",
        "answ_2"
      ],
      "metadata": {
        "colab": {
          "base_uri": "https://localhost:8080/"
        },
        "id": "_l7loj5WoofT",
        "outputId": "ccfbac63-a95a-47b3-89d2-e7d00ea79c94"
      },
      "execution_count": 93,
      "outputs": [
        {
          "output_type": "execute_result",
          "data": {
            "text/plain": [
              "[18.49, 29.92, 7.9, 0.07, 2.59, 7.84, 0.58, 3.28, 0.04, 0.05, 0.26, 0.44]"
            ]
          },
          "metadata": {},
          "execution_count": 93
        }
      ]
    },
    {
      "cell_type": "code",
      "source": [
        "answ_3 = []\n",
        "for i in range(len(answ_2)):\n",
        "  answ_3.append(round(answ_2[i] / tytytyt[i][1], 2))\n",
        "\n",
        "answ_3"
      ],
      "metadata": {
        "colab": {
          "base_uri": "https://localhost:8080/"
        },
        "id": "JNQV66UHp0FT",
        "outputId": "727f5132-1f74-4fec-807c-25312d81b5b7"
      },
      "execution_count": 94,
      "outputs": [
        {
          "output_type": "execute_result",
          "data": {
            "text/plain": [
              "[0.54, 1.33, 0.53, 0.01, 0.41, 1.87, 0.21, 1.81, 0.03, 0.06, 0.51, 1.29]"
            ]
          },
          "metadata": {},
          "execution_count": 94
        }
      ]
    },
    {
      "cell_type": "code",
      "source": [
        "sum_of_answ_3 = sum(answ_3)\n",
        "sum_of_answ_3"
      ],
      "metadata": {
        "colab": {
          "base_uri": "https://localhost:8080/"
        },
        "id": "YBRNlYVOqi1N",
        "outputId": "24d5475c-222d-45b1-f360-bf59040edc31"
      },
      "execution_count": 95,
      "outputs": [
        {
          "output_type": "execute_result",
          "data": {
            "text/plain": [
              "8.600000000000001"
            ]
          },
          "metadata": {},
          "execution_count": 95
        }
      ]
    },
    {
      "cell_type": "markdown",
      "source": [
        "По таблице значение K = 18.30704\n",
        "\n",
        "По наблюдаемым значениям K_наблюдаемое = 8.6\n",
        "\n",
        "Легко заметить, что K_наблюдаемое < K\n",
        "\n",
        "А значит гипотиза не опровергнута"
      ],
      "metadata": {
        "id": "Pf4jggcKqx4b"
      }
    },
    {
      "cell_type": "code",
      "source": [
        "its_copy_of_list = its_list.copy()\n",
        "answer_is = []\n",
        "consta = 100\n",
        "for i in range(0, 2312, consta):\n",
        "  buf = []\n",
        "  buf = func(its_copy_of_list, i/100, (i+consta)/100)\n",
        "  answer_is.append(buf)\n",
        "\n",
        "answer_is\n",
        "seq_freq = []\n",
        "sr_inter = []\n",
        "\n",
        "for i in range(len(answer_is)):\n",
        "  print(\"list_{} в промежутке {} - {} и частотой {}, середина интервала {}\".format(round(i+1, 2), round(i*1,2), round((i+1)*1, 2), len(answer_is[i]),  round(i*1+((i+1)*1- i*1)/2, 2)))\n",
        "  seq_freq.append(len(answer_is[i]))\n",
        "  sr_inter.append(round(i*1+((i+1)*1 - i*1)/2, 2))\n",
        "\n",
        "relative_seq_freq = []\n",
        "for i,j in enumerate(seq_freq):\n",
        "  relative_seq_freq.append(j/100)\n",
        "\n",
        "# len(relative_seq_freq)\n",
        "# answer_is"
      ],
      "metadata": {
        "colab": {
          "base_uri": "https://localhost:8080/"
        },
        "id": "tt01kTlOuied",
        "outputId": "b99003c5-418b-4e98-9d63-e0a7805b95a2"
      },
      "execution_count": 96,
      "outputs": [
        {
          "output_type": "stream",
          "name": "stdout",
          "text": [
            "list_1 в промежутке 0 - 1 и частотой 15, середина интервала 0.5\n",
            "list_2 в промежутке 1 - 2 и частотой 15, середина интервала 1.5\n",
            "list_3 в промежутке 2 - 3 и частотой 19, середина интервала 2.5\n",
            "list_4 в промежутке 3 - 4 и частотой 9, середина интервала 3.5\n",
            "list_5 в промежутке 4 - 5 и частотой 7, середина интервала 4.5\n",
            "list_6 в промежутке 5 - 6 и частотой 5, середина интервала 5.5\n",
            "list_7 в промежутке 6 - 7 и частотой 6, середина интервала 6.5\n",
            "list_8 в промежутке 7 - 8 и частотой 4, середина интервала 7.5\n",
            "list_9 в промежутке 8 - 9 и частотой 4, середина интервала 8.5\n",
            "list_10 в промежутке 9 - 10 и частотой 4, середина интервала 9.5\n",
            "list_11 в промежутке 10 - 11 и частотой 5, середина интервала 10.5\n",
            "list_12 в промежутке 11 - 12 и частотой 2, середина интервала 11.5\n",
            "list_13 в промежутке 12 - 13 и частотой 1, середина интервала 12.5\n",
            "list_14 в промежутке 13 - 14 и частотой 1, середина интервала 13.5\n",
            "list_15 в промежутке 14 - 15 и частотой 0, середина интервала 14.5\n",
            "list_16 в промежутке 15 - 16 и частотой 0, середина интервала 15.5\n",
            "list_17 в промежутке 16 - 17 и частотой 1, середина интервала 16.5\n",
            "list_18 в промежутке 17 - 18 и частотой 0, середина интервала 17.5\n",
            "list_19 в промежутке 18 - 19 и частотой 0, середина интервала 18.5\n",
            "list_20 в промежутке 19 - 20 и частотой 1, середина интервала 19.5\n",
            "list_21 в промежутке 20 - 21 и частотой 0, середина интервала 20.5\n",
            "list_22 в промежутке 21 - 22 и частотой 0, середина интервала 21.5\n",
            "list_23 в промежутке 22 - 23 и частотой 0, середина интервала 22.5\n",
            "list_24 в промежутке 23 - 24 и частотой 1, середина интервала 23.5\n"
          ]
        }
      ]
    },
    {
      "cell_type": "code",
      "source": [
        "#@title\n",
        "max_freq = 1.15\n",
        "h = 1\n",
        "freq_for_moment = seq_freq.copy()\n",
        "ni_ai_1 = []\n",
        "ni_ai_2 = []\n",
        "ni_ai_3 = []\n",
        "ni_ai_4 = []\n",
        "zero_freq = []\n",
        "# Строим послед\n",
        "for i in range(len(freq_for_moment)):\n",
        "  zero_freq.append(round(sr_inter[i] - max_freq, 2))\n",
        "  ni_ai_1.append(zero_freq[i] * seq_freq[i])\n",
        "  buf = zero_freq[i] ** 2\n",
        "  buf = buf * seq_freq[i]\n",
        "  ni_ai_2.append(buf)\n",
        "  buf = zero_freq[i] ** 3\n",
        "  buf *= seq_freq[i]\n",
        "  ni_ai_3.append(buf)\n",
        "  buf = zero_freq[i] ** 4\n",
        "  buf *= seq_freq[i]\n",
        "  ni_ai_4.append(buf)\n",
        "  print(f\"Для интервала [{i*1} : {(i+1)*1}] ai = {round(zero_freq[i],2)}, ai*ni = {round(ni_ai_1[i],2)}, ni*ai^2 = {round(ni_ai_2[i],2)}, ni*ai^3 = {round(ni_ai_3[i],2)}, ni*ai^4 = {round(ni_ai_4[i],2)}\")\n",
        "\n",
        "print(f\"\\nСумма ai*ni/100 = {round(sum(ni_ai_1)/100,2)}, Сумма ni*ai^2/100 = {round(sum(ni_ai_2)/100,2)}, Сумма ni*ai^3/100 = {round(sum(ni_ai_3)/100,2)}, Сумма ni*ai^4/100 = {round(sum(ni_ai_4)/100,2)}\")"
      ],
      "metadata": {
        "colab": {
          "base_uri": "https://localhost:8080/"
        },
        "id": "qQr7goY1zGHd",
        "outputId": "54236ed6-5d06-4673-c1c5-f905084414d5"
      },
      "execution_count": 114,
      "outputs": [
        {
          "output_type": "stream",
          "name": "stdout",
          "text": [
            "Для интервала [0 : 1] ai = -0.65, ai*ni = -9.75, ni*ai^2 = 6.34, ni*ai^3 = -4.12, ni*ai^4 = 2.68\n",
            "Для интервала [1 : 2] ai = 0.35, ai*ni = 5.25, ni*ai^2 = 1.84, ni*ai^3 = 0.64, ni*ai^4 = 0.23\n",
            "Для интервала [2 : 3] ai = 1.35, ai*ni = 25.65, ni*ai^2 = 34.63, ni*ai^3 = 46.75, ni*ai^4 = 63.11\n",
            "Для интервала [3 : 4] ai = 2.35, ai*ni = 21.15, ni*ai^2 = 49.7, ni*ai^3 = 116.8, ni*ai^4 = 274.48\n",
            "Для интервала [4 : 5] ai = 3.35, ai*ni = 23.45, ni*ai^2 = 78.56, ni*ai^3 = 263.17, ni*ai^4 = 881.61\n",
            "Для интервала [5 : 6] ai = 4.35, ai*ni = 21.75, ni*ai^2 = 94.61, ni*ai^3 = 411.56, ni*ai^4 = 1790.31\n",
            "Для интервала [6 : 7] ai = 5.35, ai*ni = 32.1, ni*ai^2 = 171.73, ni*ai^3 = 918.78, ni*ai^4 = 4915.49\n",
            "Для интервала [7 : 8] ai = 6.35, ai*ni = 25.4, ni*ai^2 = 161.29, ni*ai^3 = 1024.19, ni*ai^4 = 6503.62\n",
            "Для интервала [8 : 9] ai = 7.35, ai*ni = 29.4, ni*ai^2 = 216.09, ni*ai^3 = 1588.26, ni*ai^4 = 11673.72\n",
            "Для интервала [9 : 10] ai = 8.35, ai*ni = 33.4, ni*ai^2 = 278.89, ni*ai^3 = 2328.73, ni*ai^4 = 19444.91\n",
            "Для интервала [10 : 11] ai = 9.35, ai*ni = 46.75, ni*ai^2 = 437.11, ni*ai^3 = 4087.0, ni*ai^4 = 38213.47\n",
            "Для интервала [11 : 12] ai = 10.35, ai*ni = 20.7, ni*ai^2 = 214.24, ni*ai^3 = 2217.44, ni*ai^4 = 22950.46\n",
            "Для интервала [12 : 13] ai = 11.35, ai*ni = 11.35, ni*ai^2 = 128.82, ni*ai^3 = 1462.14, ni*ai^4 = 16595.24\n",
            "Для интервала [13 : 14] ai = 12.35, ai*ni = 12.35, ni*ai^2 = 152.52, ni*ai^3 = 1883.65, ni*ai^4 = 23263.11\n",
            "Для интервала [14 : 15] ai = 13.35, ai*ni = 0.0, ni*ai^2 = 0.0, ni*ai^3 = 0.0, ni*ai^4 = 0.0\n",
            "Для интервала [15 : 16] ai = 14.35, ai*ni = 0.0, ni*ai^2 = 0.0, ni*ai^3 = 0.0, ni*ai^4 = 0.0\n",
            "Для интервала [16 : 17] ai = 15.35, ai*ni = 15.35, ni*ai^2 = 235.62, ni*ai^3 = 3616.81, ni*ai^4 = 55517.96\n",
            "Для интервала [17 : 18] ai = 16.35, ai*ni = 0.0, ni*ai^2 = 0.0, ni*ai^3 = 0.0, ni*ai^4 = 0.0\n",
            "Для интервала [18 : 19] ai = 17.35, ai*ni = 0.0, ni*ai^2 = 0.0, ni*ai^3 = 0.0, ni*ai^4 = 0.0\n",
            "Для интервала [19 : 20] ai = 18.35, ai*ni = 18.35, ni*ai^2 = 336.72, ni*ai^3 = 6178.86, ni*ai^4 = 113382.04\n",
            "Для интервала [20 : 21] ai = 19.35, ai*ni = 0.0, ni*ai^2 = 0.0, ni*ai^3 = 0.0, ni*ai^4 = 0.0\n",
            "Для интервала [21 : 22] ai = 20.35, ai*ni = 0.0, ni*ai^2 = 0.0, ni*ai^3 = 0.0, ni*ai^4 = 0.0\n",
            "Для интервала [22 : 23] ai = 21.35, ai*ni = 0.0, ni*ai^2 = 0.0, ni*ai^3 = 0.0, ni*ai^4 = 0.0\n",
            "Для интервала [23 : 24] ai = 22.35, ai*ni = 22.35, ni*ai^2 = 499.52, ni*ai^3 = 11164.33, ni*ai^4 = 249522.73\n",
            "\n",
            "Сумма ai*ni/100 = 3.55, Сумма ni*ai^2/100 = 30.98, Сумма ni*ai^3/100 = 373.05, Сумма ni*ai^4/100 = 5649.95\n"
          ]
        }
      ]
    },
    {
      "cell_type": "code",
      "source": [
        "mytable = PrettyTable()\n",
        "mytable.field_names = [\"Интервал\", \"ai\", \"ni\", \"ai * ni\", \"ni * ai^2\", \"ni*ai^3\", \"ni*ai^4\"]\n",
        "for i in range(len(seq_freq)):\n",
        "  mytable.add_row([f\"{i*2} : {(i+1)*2}\", zero_freq[i], seq_freq[i], round(ni_ai_1[i],2), round(ni_ai_2[i],2), round(ni_ai_3[i],2), round(ni_ai_4[i],2)])\n",
        "\n",
        "mytable.add_row([\"Сумма\", \"\", \"\", round(sum(ni_ai_1)/100,2), round(sum(ni_ai_2)/100,2), round(sum(ni_ai_3)/100,2), round(sum(ni_ai_4)/100,2)])\n",
        "print(mytable)"
      ],
      "metadata": {
        "colab": {
          "base_uri": "https://localhost:8080/"
        },
        "id": "IKLNgzrhMh_c",
        "outputId": "86b048aa-c144-445f-9c52-109416478b3b"
      },
      "execution_count": 117,
      "outputs": [
        {
          "output_type": "stream",
          "name": "stdout",
          "text": [
            "+----------+-------+----+---------+-----------+----------+-----------+\n",
            "| Интервал |   ai  | ni | ai * ni | ni * ai^2 | ni*ai^3  |  ni*ai^4  |\n",
            "+----------+-------+----+---------+-----------+----------+-----------+\n",
            "|  0 : 2   | -0.65 | 15 |  -9.75  |    6.34   |  -4.12   |    2.68   |\n",
            "|  2 : 4   |  0.35 | 15 |   5.25  |    1.84   |   0.64   |    0.23   |\n",
            "|  4 : 6   |  1.35 | 19 |  25.65  |   34.63   |  46.75   |   63.11   |\n",
            "|  6 : 8   |  2.35 | 9  |  21.15  |    49.7   |  116.8   |   274.48  |\n",
            "|  8 : 10  |  3.35 | 7  |  23.45  |   78.56   |  263.17  |   881.61  |\n",
            "| 10 : 12  |  4.35 | 5  |  21.75  |   94.61   |  411.56  |  1790.31  |\n",
            "| 12 : 14  |  5.35 | 6  |   32.1  |   171.73  |  918.78  |  4915.49  |\n",
            "| 14 : 16  |  6.35 | 4  |   25.4  |   161.29  | 1024.19  |  6503.62  |\n",
            "| 16 : 18  |  7.35 | 4  |   29.4  |   216.09  | 1588.26  |  11673.72 |\n",
            "| 18 : 20  |  8.35 | 4  |   33.4  |   278.89  | 2328.73  |  19444.91 |\n",
            "| 20 : 22  |  9.35 | 5  |  46.75  |   437.11  |  4087.0  |  38213.47 |\n",
            "| 22 : 24  | 10.35 | 2  |   20.7  |   214.24  | 2217.44  |  22950.46 |\n",
            "| 24 : 26  | 11.35 | 1  |  11.35  |   128.82  | 1462.14  |  16595.24 |\n",
            "| 26 : 28  | 12.35 | 1  |  12.35  |   152.52  | 1883.65  |  23263.11 |\n",
            "| 28 : 30  | 13.35 | 0  |   0.0   |    0.0    |   0.0    |    0.0    |\n",
            "| 30 : 32  | 14.35 | 0  |   0.0   |    0.0    |   0.0    |    0.0    |\n",
            "| 32 : 34  | 15.35 | 1  |  15.35  |   235.62  | 3616.81  |  55517.96 |\n",
            "| 34 : 36  | 16.35 | 0  |   0.0   |    0.0    |   0.0    |    0.0    |\n",
            "| 36 : 38  | 17.35 | 0  |   0.0   |    0.0    |   0.0    |    0.0    |\n",
            "| 38 : 40  | 18.35 | 1  |  18.35  |   336.72  | 6178.86  | 113382.04 |\n",
            "| 40 : 42  | 19.35 | 0  |   0.0   |    0.0    |   0.0    |    0.0    |\n",
            "| 42 : 44  | 20.35 | 0  |   0.0   |    0.0    |   0.0    |    0.0    |\n",
            "| 44 : 46  | 21.35 | 0  |   0.0   |    0.0    |   0.0    |    0.0    |\n",
            "| 46 : 48  | 22.35 | 1  |  22.35  |   499.52  | 11164.33 | 249522.73 |\n",
            "|  Сумма   |       |    |   3.55  |   30.98   |  373.05  |  5649.95  |\n",
            "+----------+-------+----+---------+-----------+----------+-----------+\n"
          ]
        }
      ]
    },
    {
      "cell_type": "code",
      "source": [
        "M_1 = sum(ni_ai_1)/100\n",
        "M_2 = sum(ni_ai_2)/100\n",
        "M_3 = sum(ni_ai_3)/100\n",
        "M_4 = sum(ni_ai_4)/100\n",
        "C = 1.15\n",
        "x_average_is = M_1 * 1 + C\n",
        "x_average_is"
      ],
      "metadata": {
        "colab": {
          "base_uri": "https://localhost:8080/"
        },
        "id": "5KWLsxv54PT8",
        "outputId": "3d2f6922-f2cb-42f9-82e1-7d85ce1dcff9"
      },
      "execution_count": 98,
      "outputs": [
        {
          "output_type": "execute_result",
          "data": {
            "text/plain": [
              "4.700000000000001"
            ]
          },
          "metadata": {},
          "execution_count": 98
        }
      ]
    },
    {
      "cell_type": "code",
      "source": [
        "D_v_is = (M_2 - M_1**2)\n",
        "D_v_is"
      ],
      "metadata": {
        "colab": {
          "base_uri": "https://localhost:8080/"
        },
        "id": "ESvdGHlC8avY",
        "outputId": "1118dacd-832b-475c-93c1-5559b356a026"
      },
      "execution_count": 99,
      "outputs": [
        {
          "output_type": "execute_result",
          "data": {
            "text/plain": [
              "18.37999999999999"
            ]
          },
          "metadata": {},
          "execution_count": 99
        }
      ]
    },
    {
      "cell_type": "code",
      "source": [
        "sigma_v_is = np.sqrt(D_v_is)\n",
        "sigma_v_is"
      ],
      "metadata": {
        "colab": {
          "base_uri": "https://localhost:8080/"
        },
        "id": "4QF8GIIv8zp-",
        "outputId": "465cbf62-75f1-4cca-db46-a0cc57a86a73"
      },
      "execution_count": 100,
      "outputs": [
        {
          "output_type": "execute_result",
          "data": {
            "text/plain": [
              "4.287190222045202"
            ]
          },
          "metadata": {},
          "execution_count": 100
        }
      ]
    },
    {
      "cell_type": "code",
      "source": [
        "V_v_is = sigma_v_is / x_average_is * 100\n",
        "V_v_is"
      ],
      "metadata": {
        "colab": {
          "base_uri": "https://localhost:8080/"
        },
        "id": "VCaQtfC49DyJ",
        "outputId": "1549ca9e-bbf7-4c1f-9c3f-e34c8ca8e88b"
      },
      "execution_count": 101,
      "outputs": [
        {
          "output_type": "execute_result",
          "data": {
            "text/plain": [
              "91.21681323500427"
            ]
          },
          "metadata": {},
          "execution_count": 101
        }
      ]
    },
    {
      "cell_type": "code",
      "source": [
        "A_s_is = (M_3 - 3*M_1*M_2 + M_1**3 *2) / sigma_v_is**3\n",
        "A_s_is"
      ],
      "metadata": {
        "colab": {
          "base_uri": "https://localhost:8080/"
        },
        "id": "wrCzpbYH9M-G",
        "outputId": "a7bc28cd-6d04-4e5d-dee1-02751b03e653"
      },
      "execution_count": 102,
      "outputs": [
        {
          "output_type": "execute_result",
          "data": {
            "text/plain": [
              "1.6823150861666634"
            ]
          },
          "metadata": {},
          "execution_count": 102
        }
      ]
    },
    {
      "cell_type": "code",
      "source": [
        "E_s_is = (M_4 - 4*M_1*M_3 + 6*M_1**2 * M_2 - 3*M_1**4)/sigma_v_is**4 - 3\n",
        "E_s_is"
      ],
      "metadata": {
        "colab": {
          "base_uri": "https://localhost:8080/"
        },
        "id": "KRDNZLci9lb6",
        "outputId": "b4d32818-20ee-4b00-f261-b0af33876169"
      },
      "execution_count": 103,
      "outputs": [
        {
          "output_type": "execute_result",
          "data": {
            "text/plain": [
              "3.5682526188161727"
            ]
          },
          "metadata": {},
          "execution_count": 103
        }
      ]
    },
    {
      "cell_type": "markdown",
      "source": [
        "Среднее через центральный момент = 4.6665\n",
        "\n",
        "Выборочная дисперсия через центральный момент = 18.155510750000005\n",
        "\n",
        "Ассиметрия через центральный момент = 1.6585830154418122\n",
        "\n",
        "Эксцесс через центральный момент = 3.4412335114234534\n",
        "\n",
        "Cреднее квадратическое отклонение через центральные моменты = 4.260928390620993\n",
        "\n",
        "Коэффициент вариации через центральный моменты = 91.3088694014999%"
      ],
      "metadata": {
        "id": "0CxVXP72-UVV"
      }
    },
    {
      "cell_type": "code",
      "source": [
        "x = np.linspace(1, 23, len(relative_seq_freq))\n",
        "plt.plot(x, stats.expon.pdf(x, scale = average_x_by_central_moment))"
      ],
      "metadata": {
        "colab": {
          "base_uri": "https://localhost:8080/",
          "height": 282
        },
        "id": "5cul73hCP-bD",
        "outputId": "0620bcca-48f0-4247-a8f0-75ecd1f39e7e"
      },
      "execution_count": 118,
      "outputs": [
        {
          "output_type": "execute_result",
          "data": {
            "text/plain": [
              "[<matplotlib.lines.Line2D at 0x7fe45f8da970>]"
            ]
          },
          "metadata": {},
          "execution_count": 118
        },
        {
          "output_type": "display_data",
          "data": {
            "text/plain": [
              "<Figure size 432x288 with 1 Axes>"
            ],
            "image/png": "[encoded data removed]"
          },
          "metadata": {
            "needs_background": "light"
          }
        }
      ]
    },
    {
      "cell_type": "code",
      "source": [
        "plt.plot(x, stats.expon.cdf(x, scale = average_x_by_central_moment,))"
      ],
      "metadata": {
        "colab": {
          "base_uri": "https://localhost:8080/",
          "height": 282
        },
        "id": "sKIRXIIvQKzY",
        "outputId": "607ddad4-1f0c-45fc-8344-1eaf906ca8ec"
      },
      "execution_count": 119,
      "outputs": [
        {
          "output_type": "execute_result",
          "data": {
            "text/plain": [
              "[<matplotlib.lines.Line2D at 0x7fe45ff8f1f0>]"
            ]
          },
          "metadata": {},
          "execution_count": 119
        },
        {
          "output_type": "display_data",
          "data": {
            "text/plain": [
              "<Figure size 432x288 with 1 Axes>"
            ],
            "image/png": "[encoded data removed]"
          },
          "metadata": {
            "needs_background": "light"
          }
        }
      ]
    }
  ]
}