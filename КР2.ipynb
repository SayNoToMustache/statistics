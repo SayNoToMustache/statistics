{
  "nbformat": 4,
  "nbformat_minor": 0,
  "metadata": {
    "colab": {
      "provenance": [],
      "authorship_tag": "ABX9TyPVlZUJQjCL6hJj61cESfVj",
      "include_colab_link": true
    },
    "kernelspec": {
      "name": "python3",
      "display_name": "Python 3"
    },
    "language_info": {
      "name": "python"
    }
  },
  "cells": [
    {
      "cell_type": "markdown",
      "metadata": {
        "id": "view-in-github",
        "colab_type": "text"
      },
      "source": [
        "<a href=\"https://colab.research.google.com/github/SayNoToMustache/statistics/blob/main/%D0%9A%D0%A02.ipynb\" target=\"_parent\"><img src=\"https://colab.research.google.com/assets/colab-badge.svg\" alt=\"Open In Colab\"/></a>"
      ]
    },
    {
      "cell_type": "code",
      "execution_count": null,
      "metadata": {
        "id": "YX6OGOKafxVK"
      },
      "outputs": [],
      "source": [
        "from numpy import mean\n",
        "from scipy import stats\n",
        "import matplotlib.pyplot as plt\n",
        "from pylab import rcParams\n",
        "from numpy import median\n",
        "import numpy as np\n",
        "\n",
        "its_list = [3.77, 0.32,7.69,0.42,2.76,2.25,1.70,9.22,8.08,2.53,\n",
        "            2.49,0.51,2.68,1.45,4.06,11.94,2.28,0.23,4.89,2.73,\n",
        "            2.11,6.73,6.43,1.84,3.48,1.93,23.32,16.28,4.55,5.30,3.11,4.05,2.29,5.25,\n",
        "            8.54,10.25,10.44,13.11,1.00,0.97,1.65,2.11,2.44,5.39,1.38,6.74,0.67,9.22,2.92,5.72,\n",
        "            7.55,3.61,3.20,10.09,0.87,0.38,1.32,0.66,1.03,0.50,7.84,2.34,1.36,0.73,0.62,1.87,\n",
        "            4.40,1.48,8.78,1.35,3.56,0.71,2.17,8.48,5.47,3.22,2.69,19.19,4.14,4.63,10.58,2.14,\n",
        "            0.99,11.52,9.37,3.18,0.21,1.57,9.05,6.71,10.73,2.59,2.51,2.02,1.10,3.07,7.89,6.93,\n",
        "            12.34,6.69]\n",
        "\n"
      ]
    },
    {
      "cell_type": "code",
      "source": [
        "max_its_list = max(its_list)\n",
        "max_its_list"
      ],
      "metadata": {
        "colab": {
          "base_uri": "https://localhost:8080/"
        },
        "id": "ulS1EX5Dj9Jl",
        "outputId": "da3a3fdc-03fa-4448-d625-d40c41eca0b2"
      },
      "execution_count": null,
      "outputs": [
        {
          "output_type": "execute_result",
          "data": {
            "text/plain": [
              "23.32"
            ]
          },
          "metadata": {},
          "execution_count": 2
        }
      ]
    },
    {
      "cell_type": "code",
      "source": [
        "min_its_list = min(its_list)\n",
        "min_its_list"
      ],
      "metadata": {
        "colab": {
          "base_uri": "https://localhost:8080/"
        },
        "id": "8DO_uXg0kBja",
        "outputId": "cd41554c-81ed-43ef-d5dc-c0f3cd2bb2a2"
      },
      "execution_count": null,
      "outputs": [
        {
          "output_type": "execute_result",
          "data": {
            "text/plain": [
              "0.21"
            ]
          },
          "metadata": {},
          "execution_count": 3
        }
      ]
    },
    {
      "cell_type": "code",
      "source": [
        "scope = max_its_list - min_its_list\n",
        "scope"
      ],
      "metadata": {
        "colab": {
          "base_uri": "https://localhost:8080/"
        },
        "id": "akECjG6vkJlN",
        "outputId": "1ccaeee2-91b4-40b8-e66e-95d82d45e833"
      },
      "execution_count": null,
      "outputs": [
        {
          "output_type": "execute_result",
          "data": {
            "text/plain": [
              "23.11"
            ]
          },
          "metadata": {},
          "execution_count": 4
        }
      ]
    },
    {
      "cell_type": "markdown",
      "source": [
        "Простые делители 23.11 это простое число\n",
        "\n",
        "Поэтому возьмем 23.12\n",
        "\n",
        "тогда 2^3 * 17^2"
      ],
      "metadata": {
        "id": "zJdZ_sZ3mNa_"
      }
    },
    {
      "cell_type": "markdown",
      "source": [
        "Интервалов 8, тогда делим на 17^2"
      ],
      "metadata": {
        "id": "RkpiqMbKpTZj"
      }
    },
    {
      "cell_type": "code",
      "source": [
        "its_list.sort()\n",
        "print(its_list)"
      ],
      "metadata": {
        "colab": {
          "base_uri": "https://localhost:8080/"
        },
        "id": "wawSr0h6oyIq",
        "outputId": "accaa28e-aafc-4761-d328-d101bdfe2995"
      },
      "execution_count": null,
      "outputs": [
        {
          "output_type": "stream",
          "name": "stdout",
          "text": [
            "[0.21, 0.23, 0.32, 0.38, 0.42, 0.5, 0.51, 0.62, 0.66, 0.67, 0.71, 0.73, 0.87, 0.97, 0.99, 1.0, 1.03, 1.1, 1.32, 1.35, 1.36, 1.38, 1.45, 1.48, 1.57, 1.65, 1.7, 1.84, 1.87, 1.93, 2.02, 2.11, 2.11, 2.14, 2.17, 2.25, 2.28, 2.29, 2.34, 2.44, 2.49, 2.51, 2.53, 2.59, 2.68, 2.69, 2.73, 2.76, 2.92, 3.07, 3.11, 3.18, 3.2, 3.22, 3.48, 3.56, 3.61, 3.77, 4.05, 4.06, 4.14, 4.4, 4.55, 4.63, 4.89, 5.25, 5.3, 5.39, 5.47, 5.72, 6.43, 6.69, 6.71, 6.73, 6.74, 6.93, 7.55, 7.69, 7.84, 7.89, 8.08, 8.48, 8.54, 8.78, 9.05, 9.22, 9.22, 9.37, 10.09, 10.25, 10.44, 10.58, 10.73, 11.52, 11.94, 12.34, 13.11, 16.28, 19.19, 23.32]\n"
          ]
        }
      ]
    },
    {
      "cell_type": "code",
      "source": [
        "len(its_list)"
      ],
      "metadata": {
        "colab": {
          "base_uri": "https://localhost:8080/"
        },
        "id": "7fb05x-d4PwB",
        "outputId": "10acc009-1e47-4cb9-8eec-ec1a673a2573"
      },
      "execution_count": null,
      "outputs": [
        {
          "output_type": "execute_result",
          "data": {
            "text/plain": [
              "100"
            ]
          },
          "metadata": {},
          "execution_count": 6
        }
      ]
    },
    {
      "cell_type": "markdown",
      "source": [
        "step = 2,89"
      ],
      "metadata": {
        "id": "ViZKxUMbuiax"
      }
    },
    {
      "cell_type": "code",
      "source": [
        "def func(list_a, left, right):\n",
        "  answ = []\n",
        "  list_b = list_a.copy()\n",
        "  for i in list_b:\n",
        "    if i >= left and i < right:\n",
        "      answ.append(i)\n",
        "  return answ\n"
      ],
      "metadata": {
        "id": "xPNVzDZTqIDr"
      },
      "execution_count": null,
      "outputs": []
    },
    {
      "cell_type": "code",
      "source": [
        "list_1 = func(its_list, 0, 2.00)\n",
        "list_2 = func(its_list, 2.00, 2.00*2)\n",
        "list_3 = func(its_list, 2*2.00, 2.00*3)\n",
        "list_4 = func(its_list, 2.00*3, 2.00*4)\n",
        "list_5 = func(its_list, 2.00*4, 2.00*5)\n",
        "list_6 = func(its_list, 2.00*5, 2.00*6)\n",
        "list_7 = func(its_list, 2.00*6, 2.00*7)\n",
        "list_8 = func(its_list, 2.00*7, 2.00*8)\n",
        "list_9 = func(its_list, 2.00*8, 2.00*9)\n",
        "list_10 = func(its_list, 2.00*9, 2.00*10)\n",
        "list_11 = func(its_list, 2.00*10, 2.00*11)\n",
        "list_12 = func(its_list, 2.00*11, 2.00*12)\n",
        "list_all = []\n",
        "list_all.append(list_1)\n",
        "list_all.append(list_2)\n",
        "list_all.append(list_3)\n",
        "list_all.append(list_4)\n",
        "list_all.append(list_5)\n",
        "list_all.append(list_6)\n",
        "list_all.append(list_7)\n",
        "list_all.append(list_8)\n",
        "list_all.append(list_9)\n",
        "list_all.append(list_10)\n",
        "list_all.append(list_11)\n",
        "list_all.append(list_12)"
      ],
      "metadata": {
        "id": "db-b60fNmtCI"
      },
      "execution_count": null,
      "outputs": []
    },
    {
      "cell_type": "code",
      "source": [
        "its_list.sort()\n",
        "seq = []\n",
        "list_of_average = []\n",
        "for i in range(len(list_all)):\n",
        "  print(\"list_{} в промежутке {} - {} и частотой {}, середина интервала {}\".format(i+1, i*2.00, (i+1)*2.00, len(list_all[i]),  i*2.00+((i+1)*2.00 - i*2.00)/2))\n",
        "  seq.append(len(list_all[i]))\n",
        "  list_of_average.append(i*2.00+((i+1)*2.00 - i*2.00)/2)"
      ],
      "metadata": {
        "colab": {
          "base_uri": "https://localhost:8080/"
        },
        "id": "cBKZ_Ojhwg-O",
        "outputId": "ed345cdf-99b1-43f9-9e1b-a8266e0de7dc"
      },
      "execution_count": null,
      "outputs": [
        {
          "output_type": "stream",
          "name": "stdout",
          "text": [
            "list_1 в промежутке 0.0 - 2.0 и частотой 30, середина интервала 1.0\n",
            "list_2 в промежутке 2.0 - 4.0 и частотой 28, середина интервала 3.0\n",
            "list_3 в промежутке 4.0 - 6.0 и частотой 12, середина интервала 5.0\n",
            "list_4 в промежутке 6.0 - 8.0 и частотой 10, середина интервала 7.0\n",
            "list_5 в промежутке 8.0 - 10.0 и частотой 8, середина интервала 9.0\n",
            "list_6 в промежутке 10.0 - 12.0 и частотой 7, середина интервала 11.0\n",
            "list_7 в промежутке 12.0 - 14.0 и частотой 2, середина интервала 13.0\n",
            "list_8 в промежутке 14.0 - 16.0 и частотой 0, середина интервала 15.0\n",
            "list_9 в промежутке 16.0 - 18.0 и частотой 1, середина интервала 17.0\n",
            "list_10 в промежутке 18.0 - 20.0 и частотой 1, середина интервала 19.0\n",
            "list_11 в промежутке 20.0 - 22.0 и частотой 0, середина интервала 21.0\n",
            "list_12 в промежутке 22.0 - 24.0 и частотой 1, середина интервала 23.0\n"
          ]
        }
      ]
    },
    {
      "cell_type": "code",
      "source": [
        "its_list.sort()\n",
        "sum_0 = 0\n",
        "for i in list_all:\n",
        "  sum_0 += len(i)\n",
        "sum_0"
      ],
      "metadata": {
        "colab": {
          "base_uri": "https://localhost:8080/"
        },
        "id": "gLulKDiU6mVV",
        "outputId": "ae314319-eb64-4e3d-ef7b-8f5a61375516"
      },
      "execution_count": null,
      "outputs": [
        {
          "output_type": "execute_result",
          "data": {
            "text/plain": [
              "100"
            ]
          },
          "metadata": {},
          "execution_count": 10
        }
      ]
    },
    {
      "cell_type": "markdown",
      "source": [
        "Относительная частота - n_i / n"
      ],
      "metadata": {
        "id": "iebX1Ek113V1"
      }
    },
    {
      "cell_type": "code",
      "source": [
        "its_list.sort()\n",
        "relative_seq = []\n",
        "for i,j in enumerate(seq):\n",
        "  relative_seq.append(j/100)\n",
        "\n",
        "relative_seq"
      ],
      "metadata": {
        "colab": {
          "base_uri": "https://localhost:8080/"
        },
        "id": "3U2lzAii1vqy",
        "outputId": "2bb2f068-34d4-4d59-cc19-2fb53b356902"
      },
      "execution_count": null,
      "outputs": [
        {
          "output_type": "execute_result",
          "data": {
            "text/plain": [
              "[0.3, 0.28, 0.12, 0.1, 0.08, 0.07, 0.02, 0.0, 0.01, 0.01, 0.0, 0.01]"
            ]
          },
          "metadata": {},
          "execution_count": 11
        }
      ]
    },
    {
      "cell_type": "markdown",
      "source": [
        "Накопительная относительная:"
      ],
      "metadata": {
        "id": "GHGJy8WG277P"
      }
    },
    {
      "cell_type": "code",
      "source": [
        "its_list.sort()\n",
        "sum_1 = 0\n",
        "for i in relative_seq:\n",
        "  sum_1 += i\n",
        "  print(sum_1)"
      ],
      "metadata": {
        "colab": {
          "base_uri": "https://localhost:8080/"
        },
        "id": "MzvHmRWb3DC-",
        "outputId": "fc2e8c59-62f8-48f6-fc03-3c1d71e0b3b6"
      },
      "execution_count": null,
      "outputs": [
        {
          "output_type": "stream",
          "name": "stdout",
          "text": [
            "0.3\n",
            "0.5800000000000001\n",
            "0.7000000000000001\n",
            "0.8\n",
            "0.88\n",
            "0.95\n",
            "0.97\n",
            "0.97\n",
            "0.98\n",
            "0.99\n",
            "0.99\n",
            "1.0\n"
          ]
        }
      ]
    },
    {
      "cell_type": "code",
      "source": [
        "plt.bar((2, 4, 6, 8, 10, 12, 14, 16, 18, 20, 22, 24), relative_seq, width = 0.9)\n",
        "plt.show()"
      ],
      "metadata": {
        "colab": {
          "base_uri": "https://localhost:8080/",
          "height": 265
        },
        "id": "fwifXSbROCXH",
        "outputId": "6c84c421-c16d-4d1a-da6a-dbc9d54b16bf"
      },
      "execution_count": null,
      "outputs": [
        {
          "output_type": "display_data",
          "data": {
            "text/plain": [
              "<Figure size 432x288 with 1 Axes>"
            ],
            "image/png": "[encoded data removed]"
          },
          "metadata": {
            "needs_background": "light"
          }
        }
      ]
    },
    {
      "cell_type": "markdown",
      "source": [
        "Вычислить следующие статистики распределения: выборочную среднюю, выборочное среднеквадратичное отклонение, коэффициент вариации, асимметрию, эксцесс, моду и медиану дискретного ряда. Найти доверительные интервалы для точечных оценок распределения. Раскрыть смысловую сторону каждого параметра статистики."
      ],
      "metadata": {
        "id": "TmN3-U0J8YDm"
      }
    },
    {
      "cell_type": "markdown",
      "source": [
        "Выборочное среднее"
      ],
      "metadata": {
        "id": "W0wpOZSk9G8N"
      }
    },
    {
      "cell_type": "code",
      "source": [
        "x_average = sum(its_list)\n",
        "x_average /= 100\n",
        "x_average"
      ],
      "metadata": {
        "colab": {
          "base_uri": "https://localhost:8080/"
        },
        "id": "rJB5n3f47Xqu",
        "outputId": "e01d42df-da0d-4076-dc58-c9367efc6010"
      },
      "execution_count": null,
      "outputs": [
        {
          "output_type": "execute_result",
          "data": {
            "text/plain": [
              "4.6665"
            ]
          },
          "metadata": {},
          "execution_count": 14
        }
      ]
    },
    {
      "cell_type": "markdown",
      "source": [
        "Выборочное среднеквадратическое отклонение"
      ],
      "metadata": {
        "id": "x7N-M_T__MGv"
      }
    },
    {
      "cell_type": "code",
      "source": [
        "its_list.sort()\n",
        "its_list_copy = its_list.copy()\n",
        "for i in range(len(its_list_copy)):\n",
        "  its_list_copy[i] -= x_average\n",
        "  its_list_copy[i] = its_list_copy[i] ** 2\n",
        "\n",
        "disp = sum(its_list_copy)\n",
        "disp /= 99\n",
        "disp"
      ],
      "metadata": {
        "colab": {
          "base_uri": "https://localhost:8080/"
        },
        "id": "d6vbXVbM9zk-",
        "outputId": "97ad3c85-78b0-41bf-deaa-f183297d7340"
      },
      "execution_count": null,
      "outputs": [
        {
          "output_type": "execute_result",
          "data": {
            "text/plain": [
              "18.338899747474752"
            ]
          },
          "metadata": {},
          "execution_count": 15
        }
      ]
    },
    {
      "cell_type": "markdown",
      "source": [
        "коэффициент вариации"
      ],
      "metadata": {
        "id": "hWYAQyB__WcG"
      }
    },
    {
      "cell_type": "code",
      "source": [
        "coef_var = disp / x_average\n",
        "coef_var"
      ],
      "metadata": {
        "colab": {
          "base_uri": "https://localhost:8080/"
        },
        "id": "B5u-ZPMz-fn6",
        "outputId": "f9b39653-09b4-429c-cb1e-862b34f074d2"
      },
      "execution_count": null,
      "outputs": [
        {
          "output_type": "execute_result",
          "data": {
            "text/plain": [
              "3.929904585336923"
            ]
          },
          "metadata": {},
          "execution_count": 16
        }
      ]
    },
    {
      "cell_type": "markdown",
      "source": [
        "асимметрия"
      ],
      "metadata": {
        "id": "iAFM1hvk_s_E"
      }
    },
    {
      "cell_type": "code",
      "source": [
        "its_list.sort()\n",
        "nul_of_list = 0\n",
        "sr_of_nul_of_list = 1\n",
        "for i in range(len(list_of_average)):\n",
        "  list_of_average[i] -= 1\n",
        "  list_of_average[i] /= 2\n",
        "list_of_average\n"
      ],
      "metadata": {
        "colab": {
          "base_uri": "https://localhost:8080/"
        },
        "id": "tHFH71zB_xNo",
        "outputId": "20e54724-ff13-4e75-c5a1-74d3b8ab4342"
      },
      "execution_count": null,
      "outputs": [
        {
          "output_type": "execute_result",
          "data": {
            "text/plain": [
              "[0.0, 1.0, 2.0, 3.0, 4.0, 5.0, 6.0, 7.0, 8.0, 9.0, 10.0, 11.0]"
            ]
          },
          "metadata": {},
          "execution_count": 17
        }
      ]
    },
    {
      "cell_type": "code",
      "source": [
        "n_i_a_i = list(map(lambda x, y: x * y, list_of_average, relative_seq))\n",
        "n_i_a_i_2 = list(map(lambda x, y: x**2 * y, list_of_average, relative_seq))\n",
        "n_i_a_i_3 = list(map(lambda x, y: x**3 * y, list_of_average, relative_seq))\n",
        "n_i_a_i_4 = list(map(lambda x, y: x**3 * y, list_of_average, relative_seq))"
      ],
      "metadata": {
        "id": "USxAB9pFEnC9"
      },
      "execution_count": null,
      "outputs": []
    },
    {
      "cell_type": "code",
      "source": [
        "M_1 = sum(n_i_a_i) / 100\n",
        "x_av_M = M_1 * 2 + 1\n",
        "M_2 = sum(n_i_a_i_2) / 100\n",
        "M_3 = sum(n_i_a_i_3) / 100\n",
        "M_4 = sum(n_i_a_i_4) / 100\n"
      ],
      "metadata": {
        "id": "X-wsGM0NGRqm"
      },
      "execution_count": null,
      "outputs": []
    },
    {
      "cell_type": "code",
      "source": [
        "D_V = (M_2 - M_1 ** 2) * 2**2\n",
        "D_V\n"
      ],
      "metadata": {
        "colab": {
          "base_uri": "https://localhost:8080/"
        },
        "id": "vqOp4RsoHltZ",
        "outputId": "a29eca72-a6df-4626-8e25-53615cc14ee4"
      },
      "execution_count": null,
      "outputs": [
        {
          "output_type": "execute_result",
          "data": {
            "text/plain": [
              "0.32137116000000004"
            ]
          },
          "metadata": {},
          "execution_count": 20
        }
      ]
    },
    {
      "cell_type": "code",
      "source": [
        "sigma_V = D_V ** 0.5\n",
        "sigma_V"
      ],
      "metadata": {
        "colab": {
          "base_uri": "https://localhost:8080/"
        },
        "id": "hw4-wJL-H6e_",
        "outputId": "9fb47757-3485-4635-c66c-8520b31f5c38"
      },
      "execution_count": null,
      "outputs": [
        {
          "output_type": "execute_result",
          "data": {
            "text/plain": [
              "0.5668960751319416"
            ]
          },
          "metadata": {},
          "execution_count": 21
        }
      ]
    },
    {
      "cell_type": "code",
      "source": [
        "V = sigma_V / x_av_M\n",
        "V *= 100\n",
        "print(f\"V = {round(V, 1)}%\")"
      ],
      "metadata": {
        "colab": {
          "base_uri": "https://localhost:8080/"
        },
        "id": "2ZCgLYw6ILzL",
        "outputId": "50dde7f6-d7f0-43fc-9ae3-94f63fb29fe3"
      },
      "execution_count": null,
      "outputs": [
        {
          "output_type": "stream",
          "name": "stdout",
          "text": [
            "V = 54.6%\n"
          ]
        }
      ]
    },
    {
      "cell_type": "code",
      "source": [
        "a_s = (2**3 / sigma_V**3) * (M_3 - 3 * M_1 * M_2 + 2 * M_1**3)\n",
        "a_s"
      ],
      "metadata": {
        "colab": {
          "base_uri": "https://localhost:8080/"
        },
        "id": "zSMKZO5gIVh9",
        "outputId": "04e9316f-42b9-423e-c2dd-a64e05d9c111"
      },
      "execution_count": null,
      "outputs": [
        {
          "output_type": "execute_result",
          "data": {
            "text/plain": [
              "20.811385604879842"
            ]
          },
          "metadata": {},
          "execution_count": 23
        }
      ]
    },
    {
      "cell_type": "code",
      "source": [
        "e_s = (2**4 / sigma_V**4) * (M_4 - 4 * M_1 * M_3 + 6 * M_1**2 * M_2 - 3 * M_1**4) - 3\n",
        "e_s"
      ],
      "metadata": {
        "colab": {
          "base_uri": "https://localhost:8080/"
        },
        "id": "9mmTp9_UJ1PB",
        "outputId": "4927cea6-71d0-4a89-f80d-e39735faf484"
      },
      "execution_count": null,
      "outputs": [
        {
          "output_type": "execute_result",
          "data": {
            "text/plain": [
              "65.55158058178758"
            ]
          },
          "metadata": {},
          "execution_count": 24
        }
      ]
    },
    {
      "cell_type": "markdown",
      "source": [
        "Доверительные Интервалы"
      ],
      "metadata": {
        "id": "ANax7DjIKu-Q"
      }
    },
    {
      "cell_type": "code",
      "source": [
        "t_y = round(1.98421695150868, 4)\n",
        "t_y\n",
        "interval_l = x_av_M - t_y * sigma_V / 10\n",
        "interval_r = x_av_M + t_y * sigma_V / 10\n",
        "\n",
        "print(f\"Интервал = [{interval_l} ; {interval_r}]\")"
      ],
      "metadata": {
        "colab": {
          "base_uri": "https://localhost:8080/"
        },
        "id": "qIsTCHn6T69v",
        "outputId": "063efb36-5e0b-4e79-e966-ef0378f105a4"
      },
      "execution_count": null,
      "outputs": [
        {
          "output_type": "stream",
          "name": "stdout",
          "text": [
            "Интервал = [0.9253164807723202 ; 1.15028351922768]\n"
          ]
        }
      ]
    },
    {
      "cell_type": "code",
      "source": [
        "mediana = (its_list[49]+its_list[50])\n",
        "mediana /= 2\n",
        "print(f\"медиана = {mediana}\")"
      ],
      "metadata": {
        "colab": {
          "base_uri": "https://localhost:8080/"
        },
        "id": "mhiaMK04LKio",
        "outputId": "86c9c575-c940-4822-b718-5d6bbde82180"
      },
      "execution_count": null,
      "outputs": [
        {
          "output_type": "stream",
          "name": "stdout",
          "text": [
            "медиана = 3.09\n"
          ]
        }
      ]
    },
    {
      "cell_type": "code",
      "source": [
        "modas = stats.mode(its_list)\n",
        "print(f\"мода = {modas.mode[0]}\")"
      ],
      "metadata": {
        "colab": {
          "base_uri": "https://localhost:8080/"
        },
        "id": "PA1UgAf0P9_x",
        "outputId": "8765b02f-deb7-497d-929f-913ff9569bae"
      },
      "execution_count": null,
      "outputs": [
        {
          "output_type": "stream",
          "name": "stdout",
          "text": [
            "мода = 2.11\n"
          ]
        }
      ]
    },
    {
      "cell_type": "markdown",
      "source": [
        "Проверим показательный закон"
      ],
      "metadata": {
        "id": "A40wuBDxYWzy"
      }
    },
    {
      "cell_type": "code",
      "source": [
        "np.e"
      ],
      "metadata": {
        "colab": {
          "base_uri": "https://localhost:8080/"
        },
        "id": "v_4XEBLbibvZ",
        "outputId": "cdc5bffd-af4b-4da8-b7b2-b7188d333a34"
      },
      "execution_count": null,
      "outputs": [
        {
          "output_type": "execute_result",
          "data": {
            "text/plain": [
              "2.718281828459045"
            ]
          },
          "metadata": {},
          "execution_count": 58
        }
      ]
    },
    {
      "cell_type": "markdown",
      "source": [
        "Лямбда = 1 / x_average = 1 / 4.78= 0.21"
      ],
      "metadata": {
        "id": "dihMdpiArKXH"
      }
    },
    {
      "cell_type": "code",
      "source": [
        "def function_for_P(left, right):\n",
        "  x_left = np.e**(-0.21*left)\n",
        "  x_right = np.e**(-0.21*right)\n",
        "  return (round(x_left - x_right, 4), round(100*round(x_left - x_right, 4), 4))"
      ],
      "metadata": {
        "id": "NxjCeE0WYcwV"
      },
      "execution_count": null,
      "outputs": []
    },
    {
      "cell_type": "code",
      "source": [
        "function_for_P(22, 24)\n",
        "function_for_P(20, 22)"
      ],
      "metadata": {
        "colab": {
          "base_uri": "https://localhost:8080/"
        },
        "id": "VyxWWf7IlpnY",
        "outputId": "e30a97f7-7c8e-4af7-c995-7230eb4bc79a"
      },
      "execution_count": null,
      "outputs": [
        {
          "output_type": "execute_result",
          "data": {
            "text/plain": [
              "(0.0051, 0.51)"
            ]
          },
          "metadata": {},
          "execution_count": 75
        }
      ]
    },
    {
      "cell_type": "code",
      "source": [
        "tytytyt = []\n",
        "for i in range(12):\n",
        "  aa_ = function_for_P(2*i, 2*(i+1))\n",
        "  tytytyt.append(aa_)\n",
        "tytytyt"
      ],
      "metadata": {
        "colab": {
          "base_uri": "https://localhost:8080/"
        },
        "id": "eGTJOiI3i0rW",
        "outputId": "8b51dfa2-ab4f-4027-9fd3-2609b022add4"
      },
      "execution_count": null,
      "outputs": [
        {
          "output_type": "execute_result",
          "data": {
            "text/plain": [
              "[(0.343, 34.3),\n",
              " (0.2253, 22.53),\n",
              " (0.1481, 14.81),\n",
              " (0.0973, 9.73),\n",
              " (0.0639, 6.39),\n",
              " (0.042, 4.2),\n",
              " (0.0276, 2.76),\n",
              " (0.0181, 1.81),\n",
              " (0.0119, 1.19),\n",
              " (0.0078, 0.78),\n",
              " (0.0051, 0.51),\n",
              " (0.0034, 0.34)]"
            ]
          },
          "metadata": {},
          "execution_count": 77
        }
      ]
    },
    {
      "cell_type": "code",
      "source": [
        "frequency_list = relative_seq.copy()\n",
        "frequency_list = list(map(lambda x: round(100*x, 1), frequency_list))\n",
        "frequency_list"
      ],
      "metadata": {
        "colab": {
          "base_uri": "https://localhost:8080/"
        },
        "id": "umwEj4e7mRUm",
        "outputId": "61e428bd-db2e-465f-b73a-d21aa052d3bf"
      },
      "execution_count": null,
      "outputs": [
        {
          "output_type": "execute_result",
          "data": {
            "text/plain": [
              "[30.0, 28.0, 12.0, 10.0, 8.0, 7.0, 2.0, 0.0, 1.0, 1.0, 0.0, 1.0]"
            ]
          },
          "metadata": {},
          "execution_count": 81
        }
      ]
    },
    {
      "cell_type": "markdown",
      "source": [
        " K_наблюдаемое = (n - n_звездочка)^2 / n_звездочка"
      ],
      "metadata": {
        "id": "oE2qc2Mir4cu"
      }
    },
    {
      "cell_type": "code",
      "source": [
        "answ_1 = []\n",
        "for i in range(len(frequency_list)):\n",
        "  answ_1.append(round(frequency_list[i] - tytytyt[i][1], 2))\n",
        "answ_1"
      ],
      "metadata": {
        "colab": {
          "base_uri": "https://localhost:8080/"
        },
        "id": "pLI_mD39n-eM",
        "outputId": "09f8bd9d-e6a9-4d3d-e836-378678d029d9"
      },
      "execution_count": null,
      "outputs": [
        {
          "output_type": "execute_result",
          "data": {
            "text/plain": [
              "[-4.3, 5.47, -2.81, 0.27, 1.61, 2.8, -0.76, -1.81, -0.19, 0.22, -0.51, 0.66]"
            ]
          },
          "metadata": {},
          "execution_count": 84
        }
      ]
    },
    {
      "cell_type": "code",
      "source": [
        "answ_2 = []\n",
        "for i in range(len(answ_1)):\n",
        "  answ_2 = list(map(lambda x: round(x**2, 2), answ_1))\n",
        "answ_2"
      ],
      "metadata": {
        "colab": {
          "base_uri": "https://localhost:8080/"
        },
        "id": "_l7loj5WoofT",
        "outputId": "e61d2cfb-1622-4a2b-f190-24aaa00c9199"
      },
      "execution_count": null,
      "outputs": [
        {
          "output_type": "execute_result",
          "data": {
            "text/plain": [
              "[18.49, 29.92, 7.9, 0.07, 2.59, 7.84, 0.58, 3.28, 0.04, 0.05, 0.26, 0.44]"
            ]
          },
          "metadata": {},
          "execution_count": 88
        }
      ]
    },
    {
      "cell_type": "code",
      "source": [
        "answ_3 = []\n",
        "for i in range(len(answ_2)):\n",
        "  answ_3.append(round(answ_2[i] / tytytyt[i][1], 2))\n",
        "\n",
        "answ_3"
      ],
      "metadata": {
        "colab": {
          "base_uri": "https://localhost:8080/"
        },
        "id": "JNQV66UHp0FT",
        "outputId": "9a76650f-1bfb-4855-af12-233db2fae21f"
      },
      "execution_count": null,
      "outputs": [
        {
          "output_type": "execute_result",
          "data": {
            "text/plain": [
              "[0.54, 1.33, 0.53, 0.01, 0.41, 1.87, 0.21, 1.81, 0.03, 0.06, 0.51, 1.29]"
            ]
          },
          "metadata": {},
          "execution_count": 91
        }
      ]
    },
    {
      "cell_type": "code",
      "source": [
        "sum_of_answ_3 = sum(answ_3)\n",
        "sum_of_answ_3"
      ],
      "metadata": {
        "colab": {
          "base_uri": "https://localhost:8080/"
        },
        "id": "YBRNlYVOqi1N",
        "outputId": "60cb51c6-61fa-43dc-b679-ce45b81db787"
      },
      "execution_count": null,
      "outputs": [
        {
          "output_type": "execute_result",
          "data": {
            "text/plain": [
              "8.600000000000001"
            ]
          },
          "metadata": {},
          "execution_count": 93
        }
      ]
    },
    {
      "cell_type": "markdown",
      "source": [
        "По таблице значение K = 18.30704\n",
        "\n",
        "По наблюдаемым значениям K_наблюдаемое = 8.6\n",
        "\n",
        "Легко заметить, что K_наблюдаемое < K\n",
        "\n",
        "А значит гипотиза не опровергнута"
      ],
      "metadata": {
        "id": "Pf4jggcKqx4b"
      }
    }
  ]
}