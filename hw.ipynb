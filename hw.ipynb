{
  "nbformat": 4,
  "nbformat_minor": 0,
  "metadata": {
    "colab": {
      "provenance": [],
      "authorship_tag": "ABX9TyMLHZeRJPty6RV+YYt/aeQY",
      "include_colab_link": true
    },
    "kernelspec": {
      "name": "python3",
      "display_name": "Python 3"
    },
    "language_info": {
      "name": "python"
    }
  },
  "cells": [
    {
      "cell_type": "markdown",
      "metadata": {
        "id": "view-in-github",
        "colab_type": "text"
      },
      "source": [
        "<a href=\"https://colab.research.google.com/github/SayNoToMustache/statistics/blob/main/hw.ipynb\" target=\"_parent\"><img src=\"https://colab.research.google.com/assets/colab-badge.svg\" alt=\"Open In Colab\"/></a>"
      ]
    },
    {
      "cell_type": "code",
      "execution_count": 1,
      "metadata": {
        "id": "cwOQnjkcBqLK"
      },
      "outputs": [],
      "source": [
        "x = [0.1, 0.3, 0.5, 0.7, 0.9, 1.1, 1.3, 1.5]\n",
        "y = [3.17, 8.48, 12.79, 16.38, 18.60, 20.45, 21.65, 21.41]"
      ]
    },
    {
      "cell_type": "code",
      "source": [
        "from scipy import stats\n",
        "import numpy as np"
      ],
      "metadata": {
        "id": "OlOXzbHDS3ip"
      },
      "execution_count": 2,
      "outputs": []
    },
    {
      "cell_type": "code",
      "source": [
        "x_aver = np.mean(x)\n",
        "print(x_aver)\n",
        "y_aver = np.mean(y)\n",
        "print(y_aver)"
      ],
      "metadata": {
        "colab": {
          "base_uri": "https://localhost:8080/"
        },
        "id": "4Kbght6ITDKp",
        "outputId": "b1a3487e-ec77-4936-daea-90bad3f36c9b"
      },
      "execution_count": 3,
      "outputs": [
        {
          "output_type": "stream",
          "name": "stdout",
          "text": [
            "0.8\n",
            "15.36625\n"
          ]
        }
      ]
    },
    {
      "cell_type": "code",
      "source": [
        "x_min_av = []\n",
        "print(sum(x))\n",
        "print(8 * x_aver)"
      ],
      "metadata": {
        "colab": {
          "base_uri": "https://localhost:8080/"
        },
        "id": "2aPyjGT1ZMK_",
        "outputId": "47fd2aac-f5c8-45f7-a8b2-a58ddf106812"
      },
      "execution_count": 26,
      "outputs": [
        {
          "output_type": "stream",
          "name": "stdout",
          "text": [
            "6.4\n",
            "6.4\n"
          ]
        }
      ]
    },
    {
      "cell_type": "code",
      "source": [
        "xy = []\n",
        "for i in range(8):\n",
        "  xy.append(round(x[i] * y[i], 3))\n",
        "\n",
        "x_2 = []\n",
        "for i in range(8):\n",
        "  x_2.append(round(x[i] * x[i], 3))\n",
        "\n",
        "b = round((( 8 * sum(xy) - 8 * y_aver * x_aver ) / ( sum(x_2) - 8 * x_aver**2 )), 3)\n",
        "print(\"b =\", b)\n",
        "a = (y_aver - b * x_aver)\n",
        "print(\"a =\", a)"
      ],
      "metadata": {
        "colab": {
          "base_uri": "https://localhost:8080/"
        },
        "id": "kjWf_DywTYI1",
        "outputId": "7c7a3d7d-b05f-4dc3-fe3c-454c446b2cbb"
      },
      "execution_count": 4,
      "outputs": [
        {
          "output_type": "stream",
          "name": "stdout",
          "text": [
            "b = 513.924\n",
            "a = -395.77295000000004\n"
          ]
        }
      ]
    },
    {
      "cell_type": "code",
      "source": [
        "print(sum(xy))"
      ],
      "metadata": {
        "colab": {
          "base_uri": "https://localhost:8080/"
        },
        "id": "pPkR4PNOVqJk",
        "outputId": "cc6d0138-b7b1-48cb-b28a-508e9b90e6f5"
      },
      "execution_count": 5,
      "outputs": [
        {
          "output_type": "stream",
          "name": "stdout",
          "text": [
            "120.21700000000001\n"
          ]
        }
      ]
    },
    {
      "cell_type": "code",
      "source": [
        "def func(temp):\n",
        "  return a + b * temp"
      ],
      "metadata": {
        "id": "AMm1KkqFUl16"
      },
      "execution_count": 13,
      "outputs": []
    },
    {
      "cell_type": "code",
      "source": [
        "for i in range(8):\n",
        "  print(\"func =\", func(x[i]), \"; y_t =\", y[i])"
      ],
      "metadata": {
        "colab": {
          "base_uri": "https://localhost:8080/"
        },
        "id": "E5JNqNlpU6Ef",
        "outputId": "6edecd29-607b-4fb6-8686-1a6c2cc75255"
      },
      "execution_count": 14,
      "outputs": [
        {
          "output_type": "stream",
          "name": "stdout",
          "text": [
            "func = -344.38055 ; y_t = 3.17\n",
            "func = -241.59575000000004 ; y_t = 8.48\n",
            "func = -138.81095000000005 ; y_t = 12.79\n",
            "func = -36.02615000000009 ; y_t = 16.38\n",
            "func = 66.75864999999993 ; y_t = 18.6\n",
            "func = 169.54345 ; y_t = 20.45\n",
            "func = 272.3282499999999 ; y_t = 21.65\n",
            "func = 375.11304999999993 ; y_t = 21.41\n"
          ]
        }
      ]
    },
    {
      "cell_type": "code",
      "source": [
        "x_min_av = []\n",
        "for i in x:\n",
        "  x_min_av.append( round(i - x_aver, 2) )\n",
        "\n",
        "y_min_av = []\n",
        "for i in y:\n",
        "  y_min_av.append( round(i - y_aver, 2) )\n",
        "\n",
        "x_min_av_2 = []\n",
        "for i in x_min_av:\n",
        "  x_min_av_2.append( round(i**2, 2) )\n",
        "\n",
        "sum(x_min_av_2)"
      ],
      "metadata": {
        "colab": {
          "base_uri": "https://localhost:8080/"
        },
        "id": "WFiwmpmxWB34",
        "outputId": "bb1da2eb-1cfb-45b6-c67b-bc9b1f144414"
      },
      "execution_count": 24,
      "outputs": [
        {
          "output_type": "execute_result",
          "data": {
            "text/plain": [
              "1.68"
            ]
          },
          "metadata": {},
          "execution_count": 24
        }
      ]
    },
    {
      "cell_type": "code",
      "source": [
        "b_new = ( sum(x_min_av) * sum(y_min_av) ) / ( sum(x_min_av_2) )\n",
        "a_new = y_aver - b * x_aver"
      ],
      "metadata": {
        "id": "CorE4czdW4J7"
      },
      "execution_count": 16,
      "outputs": []
    },
    {
      "cell_type": "code",
      "source": [
        "print(\"b_new =\", b_new)\n",
        "print(\"a_new =\", a_new)"
      ],
      "metadata": {
        "colab": {
          "base_uri": "https://localhost:8080/"
        },
        "id": "FK9PCtHkYANg",
        "outputId": "7f103ff8-766f-4fb2-e3f5-e7c513fe074c"
      },
      "execution_count": 20,
      "outputs": [
        {
          "output_type": "stream",
          "name": "stdout",
          "text": [
            "b_new = 2.8173603757893277e-30\n",
            "a_new = -395.77295000000004\n"
          ]
        }
      ]
    },
    {
      "cell_type": "code",
      "source": [
        "def func_2(temp):\n",
        "  return a_new + b_new * temp"
      ],
      "metadata": {
        "id": "y5pEb_WhWx8C"
      },
      "execution_count": 17,
      "outputs": []
    },
    {
      "cell_type": "code",
      "source": [],
      "metadata": {
        "colab": {
          "base_uri": "https://localhost:8080/"
        },
        "id": "t4_4GmxAXcH4",
        "outputId": "840b180f-8615-478d-84b5-ac77fb8283f8"
      },
      "execution_count": 18,
      "outputs": [
        {
          "output_type": "execute_result",
          "data": {
            "text/plain": [
              "[0.1, 0.3, 0.5, 0.7, 0.9, 1.1, 1.3, 1.5]"
            ]
          },
          "metadata": {},
          "execution_count": 18
        }
      ]
    },
    {
      "cell_type": "code",
      "source": [
        "for i in range(8):\n",
        "  print(\"func =\", func_2(x[i]), \"; y_t =\", y[i])"
      ],
      "metadata": {
        "colab": {
          "base_uri": "https://localhost:8080/"
        },
        "id": "5DmFwGKpXVUd",
        "outputId": "4cbfc988-e4dd-4f0e-f66e-91cb7177e121"
      },
      "execution_count": 19,
      "outputs": [
        {
          "output_type": "stream",
          "name": "stdout",
          "text": [
            "func = -395.77295000000004 ; y_t = 3.17\n",
            "func = -395.77295000000004 ; y_t = 8.48\n",
            "func = -395.77295000000004 ; y_t = 12.79\n",
            "func = -395.77295000000004 ; y_t = 16.38\n",
            "func = -395.77295000000004 ; y_t = 18.6\n",
            "func = -395.77295000000004 ; y_t = 20.45\n",
            "func = -395.77295000000004 ; y_t = 21.65\n",
            "func = -395.77295000000004 ; y_t = 21.41\n"
          ]
        }
      ]
    },
    {
      "cell_type": "code",
      "source": [
        "a = 4.9505\n",
        "b = 13.0196\n",
        "def func_3(temp):\n",
        "  return a + b * temp\n",
        "\n",
        "delta_y = []\n",
        "for i in range(8):\n",
        "  print(\"func =\", func_3(x[i]), \"; y_t =\", y[i])\n",
        "  delta_y.append( y[i] - func_3(x[i]) )\n",
        "\n",
        "print(sum(delta_y))"
      ],
      "metadata": {
        "colab": {
          "base_uri": "https://localhost:8080/"
        },
        "id": "Lzq23Sb2cL9q",
        "outputId": "f88125bc-38a9-4fd1-e26b-80f3bb735d1f"
      },
      "execution_count": 48,
      "outputs": [
        {
          "output_type": "stream",
          "name": "stdout",
          "text": [
            "func = 6.25246 ; y_t = 3.17\n",
            "func = 8.85638 ; y_t = 8.48\n",
            "func = 11.4603 ; y_t = 12.79\n",
            "func = 14.064219999999999 ; y_t = 16.38\n",
            "func = 16.66814 ; y_t = 18.6\n",
            "func = 19.272060000000003 ; y_t = 20.45\n",
            "func = 21.87598 ; y_t = 21.65\n",
            "func = 24.4799 ; y_t = 21.41\n",
            "0.0005599999999956751\n"
          ]
        }
      ]
    },
    {
      "cell_type": "code",
      "source": [
        "_ = [round(i - x_aver, 2) for i in x]\n",
        "x_new = [ round(i / 0.2, 2) for i in _ ]\n",
        "\n",
        "B_wave_1 = sum(y) / 8\n",
        "Y_X = []\n",
        "for i in range(8):\n",
        "  Y_X.append(x_new[i] * y[i])\n",
        "X_2 = []\n",
        "for i in range(8):\n",
        "  X_2.append(x_new[i] * x_new[i])\n",
        "\n",
        "B_wave_2 = sum(Y_X) / sum(X_2)\n",
        "print(B_wave_1, B_wave_2)"
      ],
      "metadata": {
        "colab": {
          "base_uri": "https://localhost:8080/"
        },
        "id": "1hfZBMltfTsJ",
        "outputId": "3f393ac3-e5c2-4d7a-ff2e-72826ed7f258"
      },
      "execution_count": 49,
      "outputs": [
        {
          "output_type": "stream",
          "name": "stdout",
          "text": [
            "15.366249999999997 2.6039285714285714\n"
          ]
        }
      ]
    },
    {
      "cell_type": "code",
      "source": [
        "def func_4(temp):\n",
        "  return B_wave_1 + B_wave_2 * temp"
      ],
      "metadata": {
        "id": "3NwscqROhqr4"
      },
      "execution_count": 50,
      "outputs": []
    },
    {
      "cell_type": "code",
      "source": [
        "delta_y = []\n",
        "for i in range(8):\n",
        "  print(\"func =\", func_4(x_new[i]), \"; y_t =\", y[i])\n",
        "  delta_y.append( y[i] - func_4(x_new[i]) )\n",
        "\n",
        "print(sum(delta_y))"
      ],
      "metadata": {
        "colab": {
          "base_uri": "https://localhost:8080/"
        },
        "id": "lXNzrCPEhwKx",
        "outputId": "00d85c1a-8417-4c14-e2e2-a0b5ca287778"
      },
      "execution_count": 51,
      "outputs": [
        {
          "output_type": "stream",
          "name": "stdout",
          "text": [
            "func = 6.252499999999998 ; y_t = 3.17\n",
            "func = 8.85642857142857 ; y_t = 8.48\n",
            "func = 11.460357142857141 ; y_t = 12.79\n",
            "func = 14.064285714285711 ; y_t = 16.38\n",
            "func = 16.66821428571428 ; y_t = 18.6\n",
            "func = 19.272142857142853 ; y_t = 20.45\n",
            "func = 21.876071428571425 ; y_t = 21.65\n",
            "func = 24.479999999999997 ; y_t = 21.41\n",
            "2.1316282072803006e-14\n"
          ]
        }
      ]
    },
    {
      "cell_type": "code",
      "source": [
        "a = B_wave_2 / 0.2\n",
        "b = B_wave_1 - B_wave_2 * x_aver / 0.2\n",
        "\n",
        "def func_5(temp):\n",
        "  return b + a * temp\n",
        "\n",
        "delta_y_5 = []\n",
        "for i in range(8):\n",
        "  print(\"func =\", func_5(x[i]), \"; y_t =\", y[i])\n",
        "  delta_y_5.append( y[i] - func_5(x[i]) )\n",
        "\n",
        "print(sum(delta_y_5))"
      ],
      "metadata": {
        "colab": {
          "base_uri": "https://localhost:8080/"
        },
        "id": "cKgz4fYboOsm",
        "outputId": "d44ee472-ae66-45fa-d200-f165fb0ae6dd"
      },
      "execution_count": 66,
      "outputs": [
        {
          "output_type": "stream",
          "name": "stdout",
          "text": [
            "func = 6.252499999999998 ; y_t = 3.17\n",
            "func = 8.856428571428568 ; y_t = 8.48\n",
            "func = 11.46035714285714 ; y_t = 12.79\n",
            "func = 14.06428571428571 ; y_t = 16.38\n",
            "func = 16.66821428571428 ; y_t = 18.6\n",
            "func = 19.272142857142853 ; y_t = 20.45\n",
            "func = 21.87607142857142 ; y_t = 21.65\n",
            "func = 24.479999999999997 ; y_t = 21.41\n",
            "3.019806626980426e-14\n"
          ]
        }
      ]
    },
    {
      "cell_type": "code",
      "source": [
        "S_2 = 0.144\n",
        "n = 20"
      ],
      "metadata": {
        "id": "frQ6xwzWinfN"
      },
      "execution_count": 67,
      "outputs": []
    },
    {
      "cell_type": "code",
      "source": [
        "from re import S\n",
        "delta_y_2 = []\n",
        "for i in range(8):\n",
        "  delta_y_2.append( delta_y[i] * delta_y[i] )\n",
        "\n",
        "k_ad = 6\n",
        "\n",
        "S_ad = sum(delta_y_2) / k_ad\n",
        "print(\"S_ad =\", S_ad)\n",
        "F_fish = S_ad / S_2\n",
        "print(\"F_fish\", F_fish)\n",
        "F_fish_3_20 = 2.60\n",
        "print(\"F_fish_3_20\", F_fish_3_20)"
      ],
      "metadata": {
        "colab": {
          "base_uri": "https://localhost:8080/"
        },
        "id": "5H8FpE_gjo5N",
        "outputId": "81bf3854-1a6c-43b5-911f-f61fbd7f17b9"
      },
      "execution_count": 68,
      "outputs": [
        {
          "output_type": "stream",
          "name": "stdout",
          "text": [
            "S_ad = 5.228189880952383\n",
            "F_fish 36.306874173280434\n",
            "F_fish_3_20 2.6\n"
          ]
        }
      ]
    },
    {
      "cell_type": "markdown",
      "source": [
        "Так как больше то гипотеза не принимается для уровня значимости 0.05"
      ],
      "metadata": {
        "id": "cTRjEOJzl4_O"
      }
    },
    {
      "cell_type": "code",
      "source": [
        "# a + b * x = y\n",
        "X_2_1 = []\n",
        "for i in range(8):\n",
        "  X_2_1.append(x[i] * x[i])\n",
        "a_e = 2.1009 * np.sqrt(0.144) * np.sqrt( 1/8 + (x_aver**2)/( 0.2**2 * sum(X_2_1) ) )\n",
        "print(\"a_e =\", a_e)\n",
        "b_e = 2.1009 * np.sqrt(0.144) / ( 0.2 * np.sqrt( sum(X_2_1) ) )\n",
        "print(\"b_e =\", b_e)\n",
        "print(f\"Доверительный интервал для параметра b = [{b - b_e} ; {b + b_e}]\")\n",
        "print(f\"Доверительный интервал для параметра a = [{a - a_e} ; {a + a_e}]\")"
      ],
      "metadata": {
        "colab": {
          "base_uri": "https://localhost:8080/"
        },
        "id": "Yu9fHS0QmI3V",
        "outputId": "6dce1360-56ed-4d74-a4dc-538836d856e8"
      },
      "execution_count": 73,
      "outputs": [
        {
          "output_type": "stream",
          "name": "stdout",
          "text": [
            "a_e = 1.2549664723306824\n",
            "b_e = 1.5286292839164957\n",
            "Доверительный интервал для параметра b = [3.421906430369216 ; 6.479164998202208]\n",
            "Доверительный интервал для параметра a = [11.764676384812173 ; 14.274609329473538]\n"
          ]
        }
      ]
    },
    {
      "cell_type": "code",
      "source": [
        "from prettytable import PrettyTable\n",
        "m_table = PrettyTable()\n",
        "m_table.field_names = [\"x\", \"(x - x_)/h\", \"Y\", \"Y_lin\", \"delta Y_lin\", \"Delta Y_lin ^2\"]\n",
        "Y_lin = []\n",
        "for i in range(8):\n",
        "  Y_lin.append(func_5(x[i]))\n",
        "  m_table.add_row([x[i], x_new[i], y[i], Y_lin[i], delta_y[i], delta_y_5[i]])\n",
        "\n",
        "m_table.add_row([\"SUMM\", \"\", \"\", \"\", round(sum(delta_y), 2), round(sum(delta_y_5), 2)])\n",
        "print(m_table)\n",
        "\n",
        "my_table = PrettyTable()\n",
        "my_table.field_names = [\"B1 + B2 * X = Y\", \"b + a * x = Y\"]\n",
        "my_table.add_row([f\"{B_wave_1} + {B_wave_2} * X\", f\"{b} + {a} * x\"])\n",
        "print(my_table)\n",
        "\n",
        "third_table = PrettyTable()\n",
        "third_table.field_names = [ \"b +- Eb\", \"a +- Ea\"]\n",
        "third_table.add_row([f\"{b} +- {b_e}\", f\"{a} +- {a_e}\"])\n",
        "print(third_table)\n",
        "print(\"\\nS_ad =\", S_ad)\n",
        "print(\"F_fish =\", F_fish)\n",
        "print(\"F_fish_3_20 =\", 2.66)\n",
        "print(\"Так как больше, то гипотеза не принимается для уровня значимости 0.05\")"
      ],
      "metadata": {
        "colab": {
          "base_uri": "https://localhost:8080/"
        },
        "id": "F5OW-UP9xff0",
        "outputId": "7c93f5c5-e33f-4977-9e09-2e4721dbdc15"
      },
      "execution_count": 116,
      "outputs": [
        {
          "output_type": "stream",
          "name": "stdout",
          "text": [
            "+------+------------+-------+--------------------+----------------------+----------------------+\n",
            "|  x   | (x - x_)/h |   Y   |       Y_lin        |     delta Y_lin      |    Delta Y_lin ^2    |\n",
            "+------+------------+-------+--------------------+----------------------+----------------------+\n",
            "| 0.1  |    -3.5    |  3.17 | 6.252499999999998  |  -3.082499999999998  |  -3.082499999999998  |\n",
            "| 0.3  |    -2.5    |  8.48 | 8.856428571428568  | -0.3764285714285691  | -0.37642857142856734 |\n",
            "| 0.5  |    -1.5    | 12.79 | 11.46035714285714  |  1.3296428571428578  |  1.3296428571428596  |\n",
            "| 0.7  |    -0.5    | 16.38 | 14.06428571428571  |  2.3157142857142876  |  2.3157142857142894  |\n",
            "| 0.9  |    0.5     |  18.6 | 16.66821428571428  |   1.93178571428572   |   1.93178571428572   |\n",
            "| 1.1  |    1.5     | 20.45 | 19.272142857142853 |  1.177857142857146   |  1.177857142857146   |\n",
            "| 1.3  |    2.5     | 21.65 | 21.87607142857142  | -0.22607142857142648 | -0.22607142857142293 |\n",
            "| 1.5  |    3.5     | 21.41 | 24.479999999999997 | -3.0699999999999967  | -3.0699999999999967  |\n",
            "| SUMM |            |       |                    |         0.0          |         0.0          |\n",
            "+------+------------+-------+--------------------+----------------------+----------------------+\n",
            "+---------------------------------------------+--------------------------------------------+\n",
            "|               B1 + B2 * X = Y               |               b + a * x = Y                |\n",
            "+---------------------------------------------+--------------------------------------------+\n",
            "| 15.366249999999997 + 2.6039285714285714 * X | 4.950535714285712 + 13.019642857142856 * x |\n",
            "+---------------------------------------------+--------------------------------------------+\n",
            "+-----------------------------------------+------------------------------------------+\n",
            "|                 b +- Eb                 |                 a +- Ea                  |\n",
            "+-----------------------------------------+------------------------------------------+\n",
            "| 4.950535714285712 +- 1.5286292839164957 | 13.019642857142856 +- 1.2549664723306824 |\n",
            "+-----------------------------------------+------------------------------------------+\n",
            "\n",
            "S_ad = 5.228189880952383\n",
            "F_fish = 36.306874173280434\n",
            "F_fish_3_20 = 2.66\n",
            "Так как больше, то гипотеза не принимается для уровня значимости 0.05\n"
          ]
        }
      ]
    },
    {
      "cell_type": "markdown",
      "source": [
        "построить график полученной модели регрессии и график отклонений функции\n",
        "регрессии от экспериментальных данных."
      ],
      "metadata": {
        "id": "EEVNmig4w_j9"
      }
    },
    {
      "cell_type": "code",
      "source": [
        "import matplotlib.pyplot as plt\n",
        "plt.plot(x, Y_lin)\n",
        "plt.ylabel('Y_lin by x')\n",
        "plt.plot(x, y, 'ro')\n",
        "\n",
        "plt.show()"
      ],
      "metadata": {
        "colab": {
          "base_uri": "https://localhost:8080/",
          "height": 265
        },
        "id": "kivJPhip2KMu",
        "outputId": "7dde1201-ad36-49cf-b04f-a742f86ed146"
      },
      "execution_count": 112,
      "outputs": [
        {
          "output_type": "display_data",
          "data": {
            "text/plain": [
              "<Figure size 432x288 with 1 Axes>"
            ],
            "image/png": "[encoded data removed]"
          },
          "metadata": {
            "needs_background": "light"
          }
        }
      ]
    }
  ]
}